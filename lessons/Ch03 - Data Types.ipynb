{
 "cells": [
  {
   "cell_type": "markdown",
   "metadata": {},
   "source": [
    "# Data Types\n",
    "\n",
    "Frequently used and natively supported data types include:\n",
    "\n",
    "1. **Numbers**\n",
    "    1. **Intergers**\n",
    "        1. **int**\n",
    "        1. **bool**\n",
    "    1. **Real** \n",
    "    1. **Complex** \n",
    "    \n",
    "1. **Sequences**\n",
    "    1. **Immutable**\n",
    "        1. **Strings**\n",
    "        1. **Tuples**\n",
    "        1. **Bytes**\n",
    "    1. **Mutable**\n",
    "        1. **Lists**\n",
    "        1. **Byte Arrays**\n",
    "        \n",
    "1. **Sets**\n",
    "    1. **Mutable Sets**\n",
    "    1. **Immutable Sets (frozen sets)**\n",
    "    \n",
    "1. **Dictionaries**"
   ]
  },
  {
   "cell_type": "markdown",
   "metadata": {},
   "source": [
    "# Numbers\n",
    "\n",
    "## Integers\n",
    "\n",
    "### int\n",
    "\n",
    "- Can represent any natural number\n",
    "- **No support for unsigned numebers**, int numbers are signed by default\n",
    "- Can hold extremely large numbers\n",
    "\n",
    "\n",
    "Example 1: check data type & general operations:\n",
    "\n",
    "```sh\n",
    ">>> a = 123\n",
    ">>> type(a)\n",
    "<class 'int'>\n",
    ">>> a = a + 1\n",
    ">>> print(a)\n",
    "124\n",
    ">>>\n",
    "```\n",
    "\n",
    "Example 2: supports extremely large numbers, even if underlying hardware does not support\n",
    "```sh\n",
    ">>> # 50 digit number\n",
    "...\n",
    ">>> a = 1234567890123456789012345678901234567890123456789012345678901234567890123456789012345678901234567890\n",
    ">>> print(a)\n",
    "1234567890123456789012345678901234567890123456789012345678901234567890123456789012345678901234567890\n",
    ">>> a = a + 10\n",
    ">>> print( a )\n",
    "1234567890123456789012345678901234567890123456789012345678901234567890123456789012345678901234567900\n",
    ">>> # lets do something crazy - let square the number\n",
    "...\n",
    ">>> a = a ** 2\n",
    ">>> # Now a is a 199 digit number!\n",
    "...\n",
    ">>> print( a )\n",
    "1524157875323883675049535156256668194500838287337600975522511812231126352691000152415888766956267776253620890108215300259106851150739217227556774934003962814525224813565005334567748818777899710410000\n",
    ">>>\n",
    "```\n",
    "\n"
   ]
  },
  {
   "cell_type": "code",
   "execution_count": null,
   "metadata": {},
   "outputs": [],
   "source": [
    "# Example 1: check data type & general operations\n",
    "a = 123\n",
    "print( type(a) )   # type function returns data type of an object"
   ]
  },
  {
   "cell_type": "code",
   "execution_count": 6,
   "metadata": {},
   "outputs": [
    {
     "name": "stdout",
     "output_type": "stream",
     "text": [
      "1524157875323883675049535156256668194500838287337600975522511812231126352691000152415888766956267751562263087639079520012193273126047859425087639153757049236500533455762536198787501905199875019052100\n"
     ]
    }
   ],
   "source": [
    "a = 1234567890123456789012345678901234567890123456789012345678901234567890123456789012345678901234567890\n",
    "a = a ** 2\n",
    "print(a)"
   ]
  },
  {
   "cell_type": "code",
   "execution_count": 7,
   "metadata": {},
   "outputs": [],
   "source": [
    "import sys"
   ]
  },
  {
   "cell_type": "code",
   "execution_count": 8,
   "metadata": {},
   "outputs": [
    {
     "data": {
      "text/plain": [
       "9223372036854775807"
      ]
     },
     "execution_count": 8,
     "metadata": {},
     "output_type": "execute_result"
    }
   ],
   "source": [
    "sys.maxsize"
   ]
  },
  {
   "cell_type": "code",
   "execution_count": 11,
   "metadata": {},
   "outputs": [
    {
     "data": {
      "text/plain": [
       "9223372036854775807"
      ]
     },
     "execution_count": 11,
     "metadata": {},
     "output_type": "execute_result"
    }
   ],
   "source": [
    "sys.maxsize"
   ]
  },
  {
   "cell_type": "code",
   "execution_count": null,
   "metadata": {},
   "outputs": [],
   "source": []
  }
 ],
 "metadata": {
  "kernelspec": {
   "display_name": "Python 3",
   "language": "python",
   "name": "python3"
  },
  "language_info": {
   "codemirror_mode": {
    "name": "ipython",
    "version": 3
   },
   "file_extension": ".py",
   "mimetype": "text/x-python",
   "name": "python",
   "nbconvert_exporter": "python",
   "pygments_lexer": "ipython3",
   "version": "3.7.2"
  }
 },
 "nbformat": 4,
 "nbformat_minor": 2
}
