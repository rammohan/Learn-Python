{
 "cells": [
  {
   "cell_type": "markdown",
   "metadata": {},
   "source": [
    "# Data Types\n",
    "\n",
    "Frequently used and natively supported data types include:\n",
    "\n",
    "1. **Numbers**\n",
    "    1. **Intergers**\n",
    "        1. **int**\n",
    "        1. **bool**\n",
    "    1. **Real** \n",
    "    1. **Complex** \n",
    "    \n",
    "1. **Sequences**\n",
    "    1. **Immutable**\n",
    "        1. **Strings**\n",
    "        1. **Tuples**\n",
    "        1. **Bytes**\n",
    "    1. **Mutable**\n",
    "        1. **Lists**\n",
    "        1. **Byte Arrays**\n",
    "        \n",
    "1. **Sets**\n",
    "    1. **Mutable Sets**\n",
    "    1. **Immutable Sets (frozen sets)**\n",
    "    \n",
    "1. **Dictionaries**"
   ]
  },
  {
   "cell_type": "markdown",
   "metadata": {},
   "source": [
    "# Numbers\n",
    "\n",
    "## Integers\n",
    "\n",
    "### int\n",
    "\n",
    "- Can represent any natural number\n",
    "- **No support for unsigned numebers**, int numbers are signed by default\n",
    "- Can hold extremely large numbers\n",
    "\n",
    "\n",
    "Example 1: check data type & general operations:\n",
    "\n",
    "```sh\n",
    ">>> a = 123\n",
    ">>> type(a)\n",
    "<class 'int'>\n",
    ">>> a = a + 1\n",
    ">>> print(a)\n",
    "124\n",
    ">>>\n",
    "```\n",
    "\n",
    "Example 2: supports extremely large numbers, even if underlying hardware does not support\n",
    "```sh\n",
    ">>> # 50 digit number\n",
    "...\n",
    ">>> a = 1234567890123456789012345678901234567890123456789012345678901234567890123456789012345678901234567890\n",
    ">>> print(a)\n",
    "1234567890123456789012345678901234567890123456789012345678901234567890123456789012345678901234567890\n",
    ">>> a = a + 10\n",
    ">>> print( a )\n",
    "1234567890123456789012345678901234567890123456789012345678901234567890123456789012345678901234567900\n",
    ">>> # lets do something crazy - let square the number\n",
    "...\n",
    ">>> a = a ** 2\n",
    ">>> # Now a is a 199 digit number!\n",
    "...\n",
    ">>> print( a )\n",
    "1524157875323883675049535156256668194500838287337600975522511812231126352691000152415888766956267776253620890108215300259106851150739217227556774934003962814525224813565005334567748818777899710410000\n",
    ">>>\n",
    "```\n",
    "\n"
   ]
  },
  {
   "cell_type": "markdown",
   "metadata": {},
   "source": [
    "***\n",
    "# Notes pending on\n",
    "- bool\n",
    "- float\n",
    "- complex\n",
    "- strings\n",
    "***"
   ]
  },
  {
   "cell_type": "markdown",
   "metadata": {},
   "source": [
    "***\n",
    "## Splice Notation\n",
    "\n",
    "Useful notation to extract specific elements from an ordered set (list, tuple, string).\n",
    "\n",
    "Splice Notation format **start-index \\[: end-index \\[: step-size\\] \\]**\n",
    "\n",
    "- Indexes are always zero based, i.e. index of first element is 0\n",
    "- negative indexes represent elements from the end. -1 represent the last element in the ordered set.\n",
    "- start-index is inclusive, and end-index is exclusive\n",
    "- **step-size** has two components\n",
    "    - direction:\n",
    "        - positive step size indicates traversal from left to right\n",
    "        - negative step size indicates traversal from right to left\n",
    "    - jump:\n",
    "        - offset to add/subtract to the previously selected elements index\n",
    "        \n",
    "\n",
    "Some examples of splice notation\n",
    "\n",
    "- **a\\[2\\]** - retrieve element with index 2\n",
    "- **a\\[2:\\]** - retrieve all elements starting from index 2 to the end\n",
    "- **a\\[2:-2\\]** - substring from index 2 to the index -3\n"
   ]
  },
  {
   "cell_type": "code",
   "execution_count": 13,
   "metadata": {},
   "outputs": [
    {
     "name": "stdout",
     "output_type": "stream",
     "text": [
      "index 0: A\n",
      "index -1: E\n",
      "substring [0:-1]: ABCD\n",
      "substring last three characters: CDE\n",
      "end index < start index & direction LTR : \n",
      "end index < start index ^ direction RTL: CB\n",
      "alternate characters LTR: ACE\n",
      "alternate char.s RTL: ECA\n"
     ]
    }
   ],
   "source": [
    "s = 'ABCDE'\n",
    "# fetch element at a specific index\n",
    "print( f'index 0: {s[0]}' )\n",
    "print( f'index -1: {s[-1]}' )\n",
    "\n",
    "# fetch substring starting from an index\n",
    "print( f'substring [0:-1]: {s[0:-1]}')\n",
    "\n",
    "# interprets end index automatically\n",
    "print( f'substring last three characters: {s[-3:]}' )\n",
    "\n",
    "# since end index is to the right of start index, \n",
    "# and default direction is left to right returns an empty string\n",
    "print( f'end index < start index & direction LTR : {s[2:0]}')\n",
    "\n",
    "# end index < start index & direction RTL\n",
    "print( f'end index < start index ^ direction RTL: {s[2:0:-1]}' )\n",
    "\n",
    "# jumps bigger than one in LTR direction\n",
    "print( f'alternate characters LTR: {s[0::2]}' )\n",
    "\n",
    "# jumps bigger than one in RTL direction\n",
    "print( f'alternate char.s RTL: {s[-1::-2]}' )"
   ]
  },
  {
   "cell_type": "markdown",
   "metadata": {},
   "source": [
    "***\n",
    "# Lists\n",
    "\n",
    "Lists in python are very versatile. A List can contain:\n",
    "- any number of elements\n",
    "- elements can be of different data types\n",
    "- lists are mutable "
   ]
  },
  {
   "cell_type": "code",
   "execution_count": 16,
   "metadata": {},
   "outputs": [
    {
     "name": "stdout",
     "output_type": "stream",
     "text": [
      "<class 'list'>\n",
      "[1, 2, 3, 4, 5]\n"
     ]
    }
   ],
   "source": [
    "# create a list \n",
    "l = [1, 2, 3, 4, 5]\n",
    "print( type(l) )\n",
    "print( l )"
   ]
  },
  {
   "cell_type": "code",
   "execution_count": 17,
   "metadata": {},
   "outputs": [
    {
     "name": "stdout",
     "output_type": "stream",
     "text": [
      "<class 'list'>\n",
      "[1, True, 'hello', 12.3]\n"
     ]
    }
   ],
   "source": [
    "# a list can contain any kind of elements\n",
    "l = [1, True, 'hello', 12.3]\n",
    "print( type(l) )\n",
    "print( l )"
   ]
  },
  {
   "cell_type": "code",
   "execution_count": 18,
   "metadata": {},
   "outputs": [
    {
     "name": "stdout",
     "output_type": "stream",
     "text": [
      "[5, 4, 3, 2, 1]\n"
     ]
    }
   ],
   "source": [
    "# access list elements using splice notation\n",
    "l = [1, 2, 3, 4, 5]\n",
    "# reverse the elements of the list\n",
    "print( l[::-1] )"
   ]
  },
  {
   "cell_type": "code",
   "execution_count": 23,
   "metadata": {},
   "outputs": [
    {
     "name": "stdout",
     "output_type": "stream",
     "text": [
      "[1, 2, 3, 4]\n",
      "after appending 5: [1, 2, 3, 4, 5]\n",
      "[1, 2, 3]\n",
      "after extending with [4,5]: [1, 2, 3, 4, 5]\n"
     ]
    }
   ],
   "source": [
    "# get useful list methods using : dir( list )\n",
    "# append, clear, copy, count, extend, index, insert, \n",
    "# pop, remove, reverse, sort\n",
    "\n",
    "# append - one element at a time\n",
    "l = [1, 2, 3, 4 ]\n",
    "print( l )\n",
    "l.append(5)\n",
    "print( f'after appending 5: {l}' )\n",
    "\n",
    "# extend one list with another\n",
    "l = [1, 2, 3]\n",
    "print( l )\n",
    "l.extend( [4, 5] )\n",
    "print( f'after extending with [4,5]: {l}')"
   ]
  },
  {
   "cell_type": "code",
   "execution_count": null,
   "metadata": {},
   "outputs": [],
   "source": []
  }
 ],
 "metadata": {
  "kernelspec": {
   "display_name": "Python 3",
   "language": "python",
   "name": "python3"
  },
  "language_info": {
   "codemirror_mode": {
    "name": "ipython",
    "version": 3
   },
   "file_extension": ".py",
   "mimetype": "text/x-python",
   "name": "python",
   "nbconvert_exporter": "python",
   "pygments_lexer": "ipython3",
   "version": "3.7.2"
  }
 },
 "nbformat": 4,
 "nbformat_minor": 2
}
