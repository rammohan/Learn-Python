{
 "cells": [
  {
   "cell_type": "markdown",
   "metadata": {},
   "source": [
    "# Data Types\n",
    "\n",
    "Frequently used and natively supported data types include:\n",
    "\n",
    "1. **Numbers**\n",
    "    1. **Intergers**\n",
    "        1. **int**\n",
    "        1. **bool**\n",
    "    1. **Real** \n",
    "    1. **Complex** \n",
    "    \n",
    "1. **Sequences**\n",
    "    1. **Immutable**\n",
    "        1. **Strings**\n",
    "        1. **Tuples**\n",
    "        1. **Bytes**\n",
    "    1. **Mutable**\n",
    "        1. **Lists**\n",
    "        1. **Byte Arrays**\n",
    "        \n",
    "1. **Sets**\n",
    "    1. **Mutable Sets**\n",
    "    1. **Immutable Sets (frozen sets)**\n",
    "    \n",
    "1. **Dictionaries**"
   ]
  },
  {
   "cell_type": "markdown",
   "metadata": {},
   "source": [
    "# Numbers\n",
    "\n",
    "## Integers\n",
    "\n",
    "### int\n",
    "\n",
    "- Can represent any natural number\n",
    "- **No support for unsigned numebers**, int numbers are signed by default\n",
    "- Can hold extremely large numbers\n",
    "\n",
    "\n",
    "Example 1: check data type & general operations:\n",
    "\n",
    "```sh\n",
    ">>> a = 123\n",
    ">>> type(a)\n",
    "<class 'int'>\n",
    ">>> a = a + 1\n",
    ">>> print(a)\n",
    "124\n",
    ">>>\n",
    "```\n",
    "\n",
    "Example 2: supports extremely large numbers, even if underlying hardware does not support\n",
    "```sh\n",
    ">>> # 50 digit number\n",
    "...\n",
    ">>> a = 1234567890123456789012345678901234567890123456789012345678901234567890123456789012345678901234567890\n",
    ">>> print(a)\n",
    "1234567890123456789012345678901234567890123456789012345678901234567890123456789012345678901234567890\n",
    ">>> a = a + 10\n",
    ">>> print( a )\n",
    "1234567890123456789012345678901234567890123456789012345678901234567890123456789012345678901234567900\n",
    ">>> # lets do something crazy - let square the number\n",
    "...\n",
    ">>> a = a ** 2\n",
    ">>> # Now a is a 199 digit number!\n",
    "...\n",
    ">>> print( a )\n",
    "1524157875323883675049535156256668194500838287337600975522511812231126352691000152415888766956267776253620890108215300259106851150739217227556774934003962814525224813565005334567748818777899710410000\n",
    ">>>\n",
    "```\n",
    "\n"
   ]
  },
  {
   "cell_type": "markdown",
   "metadata": {},
   "source": [
    "***\n",
    "### bool\n",
    "\n",
    "Represents boolean values **True** and **False**. Comparison and memebership check operations evaluate to boolean."
   ]
  },
  {
   "cell_type": "code",
   "execution_count": 158,
   "metadata": {},
   "outputs": [
    {
     "name": "stdout",
     "output_type": "stream",
     "text": [
      "<class 'bool'>\n",
      "<class 'bool'>\n"
     ]
    }
   ],
   "source": [
    "# chek type of bool variable\n",
    "print( type( True) )\n",
    "print( type( False) )"
   ]
  },
  {
   "cell_type": "code",
   "execution_count": 159,
   "metadata": {},
   "outputs": [
    {
     "name": "stdout",
     "output_type": "stream",
     "text": [
      "True\n",
      "False\n"
     ]
    }
   ],
   "source": [
    "# comparison operators evaluate to bool\n",
    "print( 3 > 2  )\n",
    "print( 3 <= 2 )"
   ]
  },
  {
   "cell_type": "code",
   "execution_count": 160,
   "metadata": {},
   "outputs": [
    {
     "name": "stdout",
     "output_type": "stream",
     "text": [
      "1\n",
      "0\n",
      "2\n",
      "0\n"
     ]
    }
   ],
   "source": [
    "# bools are int under the hood: True = 1, and False = 0\n",
    "# But to make your programs readable, always use True and False\n",
    "# never use 0 and 1\n",
    "print( int(True) )\n",
    "print( int(False) )\n",
    "\n",
    "print( True + True )\n",
    "print( False + False )"
   ]
  },
  {
   "cell_type": "markdown",
   "metadata": {},
   "source": [
    "***\n",
    "## Real numbers\n",
    "\n",
    "Real numbers are represented using **float** data type. Unlike in Java, C, C++ etc., Python has only one data type to represent real numbers, that is **float**.\n",
    "\n",
    "**Size limitations**:\n",
    "- interger part has no size restrictions (just like **int**s)\n",
    "- real part has size restriction (around 15 digits)\n",
    "\n",
    "**Notations**:\n",
    "- normal notation: 1.23, -12.3 etc\n",
    "- engineering notation: $\\mathbf{\\{number\\} \\; e \\pm \\{power\\}}$\n"
   ]
  },
  {
   "cell_type": "code",
   "execution_count": 161,
   "metadata": {},
   "outputs": [
    {
     "name": "stdout",
     "output_type": "stream",
     "text": [
      "<class 'float'>\n",
      "12.3\n"
     ]
    }
   ],
   "source": [
    "# type of floating numbers\n",
    "print( type( 12.3 ) )\n",
    "print( 12.3 )"
   ]
  },
  {
   "cell_type": "code",
   "execution_count": 162,
   "metadata": {},
   "outputs": [
    {
     "name": "stdout",
     "output_type": "stream",
     "text": [
      "0.12345678901234568\n"
     ]
    }
   ],
   "source": [
    "# real part has size restrictions\n",
    "# temperature has 30 digit real part\n",
    "temperature = 0.123456789012345678901234567890\n",
    "# notice that temperature only retains 17 real digits\n",
    "print( temperature )"
   ]
  },
  {
   "cell_type": "code",
   "execution_count": 163,
   "metadata": {},
   "outputs": [
    {
     "name": "stdout",
     "output_type": "stream",
     "text": [
      "2.3230572289118146e+196\n"
     ]
    }
   ],
   "source": [
    "# int part of float number can be extremely large\n",
    "\n",
    "# 50 digit float\n",
    "number = 12345678901234567890123456789012345678901234567890.\n",
    "# 4th power generates a 197 digit float number\n",
    "print( number ** 4)\n"
   ]
  },
  {
   "cell_type": "code",
   "execution_count": 164,
   "metadata": {},
   "outputs": [
    {
     "name": "stdout",
     "output_type": "stream",
     "text": [
      "plain float format: 123.45\n",
      "enginnering positive power: 123.45\n",
      "enginnering negative power: 123.45\n"
     ]
    }
   ],
   "source": [
    "# Engineering notation\n",
    "\n",
    "# same number in plain float, and two different engineering formats\n",
    "number = 123.45\n",
    "number_eng_positive = 1.2345e+2\n",
    "number_eng_negative = 12345e-2\n",
    "\n",
    "print( f'plain float format: {number}' )\n",
    "print( f'enginnering positive power: {number_eng_positive}' )\n",
    "print( f'enginnering negative power: {number_eng_negative}' )"
   ]
  },
  {
   "cell_type": "markdown",
   "metadata": {},
   "source": [
    "***\n",
    "## Complex numbers\n",
    "\n",
    "A Complex number has both a real part and an imaginary part. They are represented with $\\mathbf{z = a + ib}$. Python has **complex** data type to support these numbers. Complex number format is: $\\mathbf{a \\pm bj}$ (note python uses **j** to denote imaginary part of the complex number)."
   ]
  },
  {
   "cell_type": "code",
   "execution_count": 165,
   "metadata": {},
   "outputs": [
    {
     "name": "stdout",
     "output_type": "stream",
     "text": [
      "<class 'complex'>\n",
      "(3+4j)\n"
     ]
    }
   ],
   "source": [
    "# get type of complex number\n",
    "print( type( 3+4j) )\n",
    "# Note: 3 + 4j is valid, but not 3 + j4\n",
    "print( 3+4j )"
   ]
  },
  {
   "cell_type": "markdown",
   "metadata": {},
   "source": [
    "***\n",
    "# Notes pending on\n",
    "- strings"
   ]
  },
  {
   "cell_type": "markdown",
   "metadata": {},
   "source": [
    "***\n",
    "## Splice Notation\n",
    "\n",
    "Useful notation to extract specific elements from an ordered set (list, tuple, string).\n",
    "\n",
    "Splice Notation format **start-index \\[: end-index \\[: step-size\\] \\]**\n",
    "\n",
    "- Indexes are always zero based, i.e. index of first element is 0\n",
    "- negative indexes represent elements from the end. -1 represent the last element in the ordered set.\n",
    "- start-index is inclusive, and end-index is exclusive\n",
    "- **step-size** has two components\n",
    "    - direction:\n",
    "        - positive step size indicates traversal from left to right\n",
    "        - negative step size indicates traversal from right to left\n",
    "    - jump:\n",
    "        - offset to add/subtract to the previously selected elements index\n",
    "        \n",
    "\n",
    "Some examples of splice notation\n",
    "\n",
    "- **a\\[2\\]** - retrieve element with index 2\n",
    "- **a\\[2:\\]** - retrieve all elements starting from index 2 to the end\n",
    "- **a\\[2:-2\\]** - substring from index 2 to the index -3\n"
   ]
  },
  {
   "cell_type": "code",
   "execution_count": 166,
   "metadata": {},
   "outputs": [
    {
     "name": "stdout",
     "output_type": "stream",
     "text": [
      "index 0: A\n",
      "index -1: E\n",
      "substring [0:-1]: ABCD\n",
      "substring last three characters: CDE\n",
      "end index < start index & direction LTR : \n",
      "end index < start index ^ direction RTL: CB\n",
      "alternate characters LTR: ACE\n",
      "alternate char.s RTL: ECA\n"
     ]
    }
   ],
   "source": [
    "s = 'ABCDE'\n",
    "# fetch element at a specific index\n",
    "print( f'index 0: {s[0]}' )\n",
    "print( f'index -1: {s[-1]}' )\n",
    "\n",
    "# fetch substring starting from an index\n",
    "print( f'substring [0:-1]: {s[0:-1]}')\n",
    "\n",
    "# interprets end index automatically\n",
    "print( f'substring last three characters: {s[-3:]}' )\n",
    "\n",
    "# since end index is to the right of start index, \n",
    "# and default direction is left to right returns an empty string\n",
    "print( f'end index < start index & direction LTR : {s[2:0]}')\n",
    "\n",
    "# end index < start index & direction RTL\n",
    "print( f'end index < start index ^ direction RTL: {s[2:0:-1]}' )\n",
    "\n",
    "# jumps bigger than one in LTR direction\n",
    "print( f'alternate characters LTR: {s[0::2]}' )\n",
    "\n",
    "# jumps bigger than one in RTL direction\n",
    "print( f'alternate char.s RTL: {s[-1::-2]}' )"
   ]
  },
  {
   "cell_type": "markdown",
   "metadata": {},
   "source": [
    "***\n",
    "# Lists\n",
    "\n",
    "Lists in python are very versatile. A List can contain:\n",
    "- any number of elements\n",
    "- elements can be of different data types\n",
    "- lists are mutable "
   ]
  },
  {
   "cell_type": "code",
   "execution_count": 167,
   "metadata": {},
   "outputs": [
    {
     "name": "stdout",
     "output_type": "stream",
     "text": [
      "<class 'list'>\n",
      "[1, 2, 3, 4, 5]\n"
     ]
    }
   ],
   "source": [
    "# create a list \n",
    "l = [1, 2, 3, 4, 5]\n",
    "print( type(l) )\n",
    "print( l )"
   ]
  },
  {
   "cell_type": "code",
   "execution_count": 168,
   "metadata": {},
   "outputs": [
    {
     "name": "stdout",
     "output_type": "stream",
     "text": [
      "<class 'list'>\n",
      "[1, True, 'hello', 12.3]\n"
     ]
    }
   ],
   "source": [
    "# a list can contain any kind of elements\n",
    "l = [1, True, 'hello', 12.3]\n",
    "print( type(l) )\n",
    "print( l )"
   ]
  },
  {
   "cell_type": "code",
   "execution_count": 169,
   "metadata": {},
   "outputs": [
    {
     "name": "stdout",
     "output_type": "stream",
     "text": [
      "[5, 4, 3, 2, 1]\n"
     ]
    }
   ],
   "source": [
    "# access list elements using splice notation\n",
    "l = [1, 2, 3, 4, 5]\n",
    "# reverse the elements of the list\n",
    "print( l[::-1] )"
   ]
  },
  {
   "cell_type": "code",
   "execution_count": 170,
   "metadata": {},
   "outputs": [
    {
     "name": "stdout",
     "output_type": "stream",
     "text": [
      "[1, 2, 3, 4]\n",
      "after appending 5: [1, 2, 3, 4, 5]\n",
      "[1, 2, 3]\n",
      "after extending with [4,5]: [1, 2, 3, 4, 5]\n"
     ]
    }
   ],
   "source": [
    "# get useful list methods using : dir( list )\n",
    "# append, clear, copy, count, extend, index, insert, \n",
    "# pop, remove, reverse, sort\n",
    "\n",
    "# append - one element at a time\n",
    "l = [1, 2, 3, 4 ]\n",
    "print( l )\n",
    "l.append(5)\n",
    "print( f'after appending 5: {l}' )\n",
    "\n",
    "# extend one list with another\n",
    "l = [1, 2, 3]\n",
    "print( l )\n",
    "l.extend( [4, 5] )\n",
    "print( f'after extending with [4,5]: {l}')"
   ]
  },
  {
   "cell_type": "code",
   "execution_count": 171,
   "metadata": {},
   "outputs": [
    {
     "name": "stdout",
     "output_type": "stream",
     "text": [
      "before clearing: [1, 2, 3]\n",
      "after clearing: []\n"
     ]
    }
   ],
   "source": [
    "# clearing all elements in a list\n",
    "l = [1,2,3]\n",
    "print( f'before clearing: {l}' )\n",
    "l.clear()\n",
    "print( f'after clearing: {l}' )"
   ]
  },
  {
   "cell_type": "code",
   "execution_count": 172,
   "metadata": {},
   "outputs": [
    {
     "name": "stdout",
     "output_type": "stream",
     "text": [
      "number of 1s: 1\n",
      "number of 3s: 3\n",
      "number of -1000s: 0\n"
     ]
    }
   ],
   "source": [
    "# count number of occurances on a particular element\n",
    "l = [1,2,2,3,3,3]\n",
    "print( f'number of 1s: {l.count(1)}' )\n",
    "print( f'number of 3s: {l.count(3)}' )\n",
    "# since -100 does not exist in the list, it return 0\n",
    "print( f'number of -1000s: {l.count( -100 )}' )"
   ]
  },
  {
   "cell_type": "code",
   "execution_count": 173,
   "metadata": {},
   "outputs": [
    {
     "name": "stdout",
     "output_type": "stream",
     "text": [
      "original list: [1, 2, 3]\n",
      "reversed list(original list does not change): [3, 2, 1]\n",
      "original list(one more time): [1, 2, 3]\n",
      "what does reverse return? None\n",
      "in place revered list: [3, 2, 1]\n"
     ]
    }
   ],
   "source": [
    "# Reversal of a list\n",
    "l = [1, 2, 3]\n",
    "print( f'original list: {l}' )\n",
    "print( f'reversed list(original list does not change): {l[::-1]}' )\n",
    "print( f'original list(one more time): {l}' )\n",
    "# reverse modifies the list in-place, does not return anything\n",
    "print( f'what does reverse return? {l.reverse()}' )\n",
    "print( f'in place revered list: {l}' )"
   ]
  },
  {
   "cell_type": "code",
   "execution_count": 174,
   "metadata": {},
   "outputs": [
    {
     "data": {
      "text/plain": [
       "True"
      ]
     },
     "execution_count": 174,
     "metadata": {},
     "output_type": "execute_result"
    }
   ],
   "source": [
    "# more reversal\n",
    "l = [1,2,3]\n",
    "# same list as l\n",
    "m = [1,2,3]\n",
    "l.reverse()\n",
    "l == m[::-1]"
   ]
  },
  {
   "cell_type": "code",
   "execution_count": 175,
   "metadata": {},
   "outputs": [
    {
     "name": "stdout",
     "output_type": "stream",
     "text": [
      "1 exists: True\n",
      "9 exists: False\n",
      "9 does not exist: True\n",
      "size: 3\n",
      "empty list size: 0\n",
      "sum of the list: 6\n"
     ]
    }
   ],
   "source": [
    "# built in methods\n",
    "# in, not in, len, sum\n",
    "l = [1, 2, 3]\n",
    "\n",
    "print( f'1 exists: {1 in l}')\n",
    "print( f'9 exists: {9 in l}')\n",
    "\n",
    "print( f'9 does not exist: {9 not in l}')\n",
    "\n",
    "print( f'size: {len(l)}')\n",
    "print( f'empty list size: {len([])}')\n",
    "\n",
    "print( f'sum of the list: {sum(l)}')"
   ]
  },
  {
   "cell_type": "code",
   "execution_count": 176,
   "metadata": {},
   "outputs": [
    {
     "name": "stdout",
     "output_type": "stream",
     "text": [
      "original list: [1, 2, 3]\n",
      "after replacing 3 with 9: [1, 2, 9]\n"
     ]
    }
   ],
   "source": [
    "# modify list : one element at a time\n",
    "l = [1, 2, 3]\n",
    "print ( f'original list: {l}')\n",
    "# replace 3 with 9\n",
    "l[-1] = 9\n",
    "print( f'after replacing 3 with 9: {l}')"
   ]
  },
  {
   "cell_type": "code",
   "execution_count": 177,
   "metadata": {},
   "outputs": [
    {
     "name": "stdout",
     "output_type": "stream",
     "text": [
      "original list: [1, 2, 3, 4]\n",
      "first two numbers replaced with 0s: [0, 0, 3, 4]\n",
      "last two numbers replaced with 4 1s: [0, 0, 1, 1, 1, 1]\n"
     ]
    }
   ],
   "source": [
    "# replace several elements at once\n",
    "l = [1, 2, 3, 4]\n",
    "print( f'original list: {l}' )\n",
    "# replace first two elements with 0,0\n",
    "l[0:2] = [0,0] # l[0:2] = (0,0) also works!\n",
    "print( f'first two numbers replaced with 0s: {l}' )\n",
    "# replace last two numbers 3,4 with four numbers 1,1,1,1\n",
    "l[2:] = [1,1,1,1]\n",
    "print( f'last two numbers replaced with 4 1s: {l}' )\n",
    "\n",
    "# Strange scenarios - need to understand\n",
    "# l = [1, 2, 3, 4]\n",
    "# l[0:2] = [3,4,5]\n",
    "# l[0:-10] = [1,2, 3, 4, 5, 6, 7]\n",
    "# l[-10:0] = [1,2, 3, 4, 5, 6, 7]\n"
   ]
  },
  {
   "cell_type": "code",
   "execution_count": 178,
   "metadata": {},
   "outputs": [
    {
     "name": "stdout",
     "output_type": "stream",
     "text": [
      "original list: [1, 2, 3]\n",
      "last element deleted is: 3\n",
      "list after deleting last element: [1, 2]\n",
      "0th element deleted is: 1\n",
      "list after deleting forst element: [2]\n"
     ]
    }
   ],
   "source": [
    "# remove element from a position\n",
    "l = [1,2,3]\n",
    "print( f'original list: {l}')\n",
    "# pop() removes the last element from the list\n",
    "# It also return the element deleted\n",
    "print( f'last element deleted is: {l.pop()}' )\n",
    "print( f'list after deleting last element: {l}')\n",
    "# pop( index ) removes element at specific index\n",
    "print( f'0th element deleted is: {l.pop(0)}')\n",
    "print( f'list after deleting forst element: {l}')\n",
    "# pop( index ) throws an error if 0 < index <= list-size\n",
    "# following line generates an exception\n",
    "# print( l.pop(1) )\n"
   ]
  },
  {
   "cell_type": "markdown",
   "metadata": {},
   "source": [
    "*** \n",
    "## Tuples\n",
    "\n",
    "Tuples are just like lists, but once created can't be modified. Use normal braces - **(** and __)__ - to create a tuple."
   ]
  },
  {
   "cell_type": "code",
   "execution_count": 179,
   "metadata": {},
   "outputs": [
    {
     "name": "stdout",
     "output_type": "stream",
     "text": [
      "type: <class 'tuple'>\n",
      "tuple: (1, 2, 3)\n"
     ]
    }
   ],
   "source": [
    "# type of a tuple varaible\n",
    "t = (1,2,3)\n",
    "print( f'type: {type(t)}')\n",
    "print( f'tuple: {t}')"
   ]
  },
  {
   "cell_type": "code",
   "execution_count": 180,
   "metadata": {},
   "outputs": [],
   "source": [
    "# tuples are immutable \n",
    "t = (1, 2, 3)\n",
    "#following code throws an expection\n",
    "# t[0] = 100    "
   ]
  },
  {
   "cell_type": "code",
   "execution_count": 181,
   "metadata": {},
   "outputs": [
    {
     "name": "stdout",
     "output_type": "stream",
     "text": [
      "type: <class 'tuple'>\n",
      "type: <class 'int'>\n",
      "data: 1\n",
      "empty tuple type: <class 'tuple'>\n",
      "empty tuple data: ()\n"
     ]
    }
   ],
   "source": [
    "# single element tuples\n",
    "t = (1,) # note the trailing comma\n",
    "print( f'type: { type(t) }' )\n",
    "# what if comma is not added?\n",
    "t = (1)\n",
    "print( f'type: { type(t) }')\n",
    "print( f'data: {t}')\n",
    "# zero element tuple - why do you need it?\n",
    "empty_tuple = tuple([])\n",
    "print( f'empty tuple type: { type(empty_tuple) }')\n",
    "print( f'empty tuple data: {empty_tuple}')"
   ]
  },
  {
   "cell_type": "markdown",
   "metadata": {},
   "source": [
    "*** \n",
    "## Sets\n",
    "\n",
    "Sets are **unordered** sequences, they work just like lists. However, since they are unordered elements can't be accessed by a position. Simply there is no notion of position(index)."
   ]
  },
  {
   "cell_type": "code",
   "execution_count": 182,
   "metadata": {},
   "outputs": [
    {
     "name": "stdout",
     "output_type": "stream",
     "text": [
      "set type: <class 'set'>\n",
      "set data: {1, 2, 3}\n"
     ]
    }
   ],
   "source": [
    "# create sets\n",
    "s = {1, 2, 3}\n",
    "print( f'set type: {type(s)}')\n",
    "print( f'set data: {s}')"
   ]
  },
  {
   "cell_type": "code",
   "execution_count": 183,
   "metadata": {},
   "outputs": [
    {
     "name": "stdout",
     "output_type": "stream",
     "text": [
      "set data: {1, 2, 3}\n"
     ]
    }
   ],
   "source": [
    "# set does not allow duplicate elements\n",
    "# note: 3 is repeated twice in the set assignment\n",
    "s = {1, 2, 3, 3} \n",
    "print( f'set data: {s}')"
   ]
  },
  {
   "cell_type": "code",
   "execution_count": 184,
   "metadata": {},
   "outputs": [
    {
     "name": "stdout",
     "output_type": "stream",
     "text": [
      "set union type: <class 'set'>\n",
      "set union data: {1, 2, 3, 4, 5}\n",
      "set intersection type: <class 'set'>\n",
      "set intersection data: {3}\n"
     ]
    }
   ],
   "source": [
    "# set support union, intersection, difference etc operations\n",
    "set_one = {1, 2, 3}\n",
    "set_two = {3, 4, 5}\n",
    "# union\n",
    "set_union = set_one.union( set_two )\n",
    "print( f'set union type: {type(set_union)}')\n",
    "print( f'set union data: {set_union}')\n",
    "# intersection\n",
    "set_intersection = set_one.intersection( set_two )\n",
    "print( f'set intersection type: {type(set_intersection)}')\n",
    "print( f'set intersection data: {set_intersection}')"
   ]
  },
  {
   "cell_type": "markdown",
   "metadata": {},
   "source": [
    "***\n",
    "## Dictionaries\n",
    "\n",
    "Dictionary(**dict**) supports **key**, __value__ data.\n",
    "- key can be anything which can be **hashed**. for example **list, set, dict** can't be a key!\n",
    "    - Rule of thumb: only immutable data is accepted as a key\n",
    "- value can be anything"
   ]
  },
  {
   "cell_type": "code",
   "execution_count": 185,
   "metadata": {},
   "outputs": [
    {
     "name": "stdout",
     "output_type": "stream",
     "text": [
      "type of dict: <class 'dict'>\n",
      "data: {'BLR': 'KA', 'MAS': 'TN', 'BOM': 'MH'}\n"
     ]
    }
   ],
   "source": [
    "# create dictionary\n",
    "states = { 'BLR': 'KA', 'MAS': 'TN', 'BOM': 'MH' }\n",
    "print( f'type of dict: {type( states )}')\n",
    "print( f'data: {states}')"
   ]
  },
  {
   "cell_type": "code",
   "execution_count": 186,
   "metadata": {},
   "outputs": [
    {
     "name": "stdout",
     "output_type": "stream",
     "text": [
      "dict with None key: {'BLR': 'KA', None: 'MH'}\n",
      "dict with None key: {'BLR': 'KA', 'BOM': None}\n"
     ]
    }
   ],
   "source": [
    "# restriction on dict keys - all keys should be hashable\n",
    "states = { 'BLR': 'KA', None: 'MH' }\n",
    "print( f'dict with None key: {states}' )\n",
    "# dict with None value\n",
    "states = { 'BLR': 'KA', 'BOM': None }\n",
    "print( f'dict with None key: {states}' )"
   ]
  },
  {
   "cell_type": "code",
   "execution_count": 197,
   "metadata": {},
   "outputs": [],
   "source": [
    "# restriction on keys - unhashable keys not allowed\n",
    "dict_with_tuple_key = { (1,2,3): 'hello'}\n",
    "# all the following lines throw Exception\n",
    "# dict_with_list_key = { [1,2,3]: 'hello'}\n",
    "# dict_with_set_key = { {1,2,3}: 'hello'}\n",
    "# dict_with_dict_key = { {1: True, 2: True}: 'hello'}"
   ]
  },
  {
   "cell_type": "code",
   "execution_count": 199,
   "metadata": {},
   "outputs": [
    {
     "name": "stdout",
     "output_type": "stream",
     "text": [
      "dict data: {'city': 'BLR'}\n",
      "dict data(after adding new key,vale): {'city': 'BLR', 'state': 'TN'}\n",
      "dict data(after overwrting a value): {'city': 'BLR', 'state': 'KA'}\n"
     ]
    }
   ],
   "source": [
    "# adding elements to a dict\n",
    "my_dict = { 'city': 'BLR'}\n",
    "print( f'dict data: {my_dict}')\n",
    "# add a new key, value pair to dict\n",
    "my_dict['state'] = 'TN'\n",
    "print( f'dict data(after adding new key,vale): {my_dict}')\n",
    "# replace value of an existing key\n",
    "my_dict['state'] = 'KA'\n",
    "print( f'dict data(after overwrting a value): {my_dict}')"
   ]
  },
  {
   "cell_type": "code",
   "execution_count": 189,
   "metadata": {},
   "outputs": [
    {
     "name": "stdout",
     "output_type": "stream",
     "text": [
      "keys type: <class 'dict_keys'>\n",
      "keys : dict_keys(['BLR', 'MAS', 'BOM'])\n",
      "values type: <class 'dict_values'>\n",
      "values : dict_values(['KA', 'TN', 'MH'])\n",
      "items type: <class 'dict_items'>\n",
      "items : dict_items([('BLR', 'KA'), ('MAS', 'TN'), ('BOM', 'MH')])\n"
     ]
    }
   ],
   "source": [
    "# Retrieve all keys\n",
    "city_and_state = { 'BLR': 'KA', 'MAS': 'TN', 'BOM': 'MH' }\n",
    "cities = city_and_state.keys()\n",
    "print( f'keys type: {type(cities)}')\n",
    "print( f'keys : {cities}')\n",
    "\n",
    "# Retrieve all values\n",
    "states = city_and_state.values()\n",
    "print( f'values type: {type(states)}')\n",
    "print( f'values : {states}')\n",
    "\n",
    "# retrieve items (item (Key, Value) )\n",
    "items = city_and_state.items()\n",
    "print( f'items type: {type(items)}')\n",
    "print( f'items : {items}')"
   ]
  },
  {
   "cell_type": "markdown",
   "metadata": {},
   "source": [
    "***\n",
    "## Membership queries \n",
    "\n",
    "All sequences (lists, tuples, sets) and dict supports membership queries. However, membership queries on lists and tuples are extremely slow. Use **set** or **dict** to process membership queries."
   ]
  },
  {
   "cell_type": "code",
   "execution_count": 190,
   "metadata": {},
   "outputs": [
    {
     "name": "stdout",
     "output_type": "stream",
     "text": [
      "1 exists in [1, 2, 3]: True\n",
      "4 exists in [1, 2, 3]: False\n",
      "1 exists in (1, 2, 3): True\n",
      "4 exists in (1, 2, 3): False\n",
      "1 exists in s: True\n",
      "4 exists in s: False\n",
      "a exists in dict: True\n",
      "x exists in dict: False\n"
     ]
    }
   ],
   "source": [
    "# in, not in are used for membership queries\n",
    "# list membership\n",
    "print( f'1 exists in [1, 2, 3]: {1 in [1, 2, 3]}')\n",
    "print( f'4 exists in [1, 2, 3]: {4 in [1, 2, 3]}')\n",
    "# tuple membership\n",
    "print( f'1 exists in (1, 2, 3): {1 in (1, 2, 3)}')\n",
    "print( f'4 exists in (1, 2, 3): {4 in (1, 2, 3)}')\n",
    "# set membership\n",
    "s = {1, 2, 3}\n",
    "one_in_set = 1 in s\n",
    "four_in_set = 4 in s\n",
    "print( f'1 exists in s: {one_in_set}')\n",
    "print( f'4 exists in s: {four_in_set}')\n",
    "# dictionary membership (membership of keys)\n",
    "my_dict = { 'a': 1, 'b': 2, 'c': 3}\n",
    "a_in_dict = 'a' in my_dict\n",
    "x_in_dict = 'x' in my_dict\n",
    "print( f'a exists in dict: {a_in_dict}' )\n",
    "print( f'x exists in dict: {x_in_dict}')\n"
   ]
  },
  {
   "cell_type": "code",
   "execution_count": 191,
   "metadata": {},
   "outputs": [
    {
     "name": "stdout",
     "output_type": "stream",
     "text": [
      "list in: True\n",
      "CPU times: user 309 µs, sys: 1.23 ms, total: 1.54 ms\n",
      "Wall time: 2.11 ms\n",
      "tuple in: True\n",
      "CPU times: user 82 µs, sys: 44 µs, total: 126 µs\n",
      "Wall time: 109 µs\n",
      "set in: True\n",
      "CPU times: user 78 µs, sys: 50 µs, total: 128 µs\n",
      "Wall time: 117 µs\n",
      "dictionary in: True\n",
      "CPU times: user 32 µs, sys: 4 µs, total: 36 µs\n",
      "Wall time: 38.9 µs\n"
     ]
    }
   ],
   "source": [
    "# Be careful on what data structure to use for memebership queries\n",
    "l = list( range(0, 100000000) )\n",
    "t = tuple( range(0, 100000000) )\n",
    "s = set( range(0, 100000000) )\n",
    "d = {i: True for i in l }\n",
    "%time print( f'list in: {5400 in l}')\n",
    "%time print( f'tuple in: {5400 in t}')\n",
    "%time print( f'set in: {5400 in s}')\n",
    "%time print( f'dictionary in: {5400 in d}')"
   ]
  },
  {
   "cell_type": "markdown",
   "metadata": {},
   "source": [
    "*** \n",
    "## Nested Data structures\n",
    "\n",
    "Data structures lists, tuples, sets, and dictionaries can be nested."
   ]
  },
  {
   "cell_type": "code",
   "execution_count": 192,
   "metadata": {},
   "outputs": [
    {
     "name": "stdout",
     "output_type": "stream",
     "text": [
      "list of lists: [[1, 3, 5, 7, 9], [2, 4, 6, 8, 10]]\n",
      "list of tuples: [(1, 3, 5, 7, 9), (2, 4, 6, 8, 10)]\n"
     ]
    }
   ],
   "source": [
    "# list of lists\n",
    "ll = [ [1,3,5,7,9], [2,4,6,8,10] ]\n",
    "print( f'list of lists: {ll}')\n",
    "# list of tuple\n",
    "lt = [ (1,3,5,7,9), (2,4,6,8,10) ]\n",
    "print( f'list of tuples: {lt}')"
   ]
  },
  {
   "cell_type": "code",
   "execution_count": 204,
   "metadata": {},
   "outputs": [
    {
     "name": "stdout",
     "output_type": "stream",
     "text": [
      "['a', 'b', 'c']\n"
     ]
    }
   ],
   "source": [
    "ll = [ [1,3,5,7,9], {2: None, 4: ['a', 'b', 'c' ]} ]\n",
    "\n",
    "print( ll[1][4] )"
   ]
  },
  {
   "cell_type": "markdown",
   "metadata": {},
   "source": [
    "***\n",
    "\n",
    "### Read about\n",
    "- byte\n",
    "- byte array\n",
    "- frozen sets"
   ]
  },
  {
   "cell_type": "code",
   "execution_count": null,
   "metadata": {},
   "outputs": [],
   "source": []
  }
 ],
 "metadata": {
  "kernelspec": {
   "display_name": "Python 3",
   "language": "python",
   "name": "python3"
  },
  "language_info": {
   "codemirror_mode": {
    "name": "ipython",
    "version": 3
   },
   "file_extension": ".py",
   "mimetype": "text/x-python",
   "name": "python",
   "nbconvert_exporter": "python",
   "pygments_lexer": "ipython3",
   "version": "3.7.2"
  }
 },
 "nbformat": 4,
 "nbformat_minor": 2
}
