{
 "cells": [
  {
   "cell_type": "markdown",
   "metadata": {},
   "source": [
    "# Functions\n",
    "\n",
    "### Function definition\n",
    "\n",
    "Functions are defined with reserved word **def**. A function:\n",
    "- can take zero or more parameters\n",
    "- **always** returns a value, *a function can return a function as well!*\n",
    "- parameters can take default values\n",
    "- parameters come in two flavors\n",
    "    - **positional**\n",
    "    - **keyword**\n",
    "    - All positional arguments must be specified before keyword args\n",
    "- can be **nested**\n",
    "- can have a **doc string**\n",
    "\n",
    "function defintion template\n",
    "```python \n",
    "def function_name(param1, param2, ...):\n",
    "    statement-1\n",
    "    statement-2\n",
    "```"
   ]
  },
  {
   "cell_type": "code",
   "execution_count": 51,
   "metadata": {},
   "outputs": [
    {
     "name": "stdout",
     "output_type": "stream",
     "text": [
      "it works\n"
     ]
    }
   ],
   "source": [
    "# function with no parameters\n",
    "# paranthesis are mandatory if even if function takes no parameters\n",
    "def test_fn():\n",
    "    print('it works')\n",
    "    \n",
    "test_fn()"
   ]
  },
  {
   "cell_type": "code",
   "execution_count": 53,
   "metadata": {},
   "outputs": [
    {
     "name": "stdout",
     "output_type": "stream",
     "text": [
      "a: 1\n",
      "b: 2\n"
     ]
    }
   ],
   "source": [
    "# positional parameters - example 1\n",
    "def test(a, b):\n",
    "    print( f'a: {a}' )\n",
    "    print( f'b: {b}')\n",
    "    \n",
    "# positional assignments:\n",
    "# a is assigned 1, and\n",
    "# b is assigned 2\n",
    "test( 1, 2)"
   ]
  },
  {
   "cell_type": "code",
   "execution_count": 57,
   "metadata": {},
   "outputs": [
    {
     "name": "stdout",
     "output_type": "stream",
     "text": [
      "a: 1\n",
      "b: 2\n",
      "<class 'str'>\n"
     ]
    }
   ],
   "source": [
    "# function always returns a value\n",
    "# this function does not return a value ?\n",
    "def test(a, b):\n",
    "    return f'a: {a}\\nb: {b}'\n",
    "    \n",
    "print( test(1, 2) )  \n",
    "print( type(test(1, 2)) )"
   ]
  },
  {
   "cell_type": "code",
   "execution_count": 58,
   "metadata": {},
   "outputs": [
    {
     "name": "stdout",
     "output_type": "stream",
     "text": [
      "a: 1\n",
      "b: 2\n",
      "None\n"
     ]
    }
   ],
   "source": [
    "# function returns None by default\n",
    "#  i.e. if no return statement is found\n",
    "def test(a, b):\n",
    "    print(f'a: {a}\\nb: {b}')\n",
    "    \n",
    "print( test(1, 2) )  "
   ]
  },
  {
   "cell_type": "code",
   "execution_count": 62,
   "metadata": {},
   "outputs": [
    {
     "name": "stdout",
     "output_type": "stream",
     "text": [
      "a: 4\n",
      "b: 5\n"
     ]
    }
   ],
   "source": [
    "# default values \n",
    "# parameters with default value are called keyword params\n",
    "def test(a, b=20):\n",
    "    print( f'a: {a}' )\n",
    "    print( f'b: {b}')\n",
    "\n",
    "# a is assigned 1, and\n",
    "# since no value for b is supplied it assumes default value 20\n",
    "#test(1) # test(1, 20)\n",
    "\n",
    "# we can supply value for b as well\n",
    "test(4, 5) "
   ]
  },
  {
   "cell_type": "code",
   "execution_count": 68,
   "metadata": {},
   "outputs": [
    {
     "ename": "TypeError",
     "evalue": "test() missing 1 required positional argument: 'a'",
     "output_type": "error",
     "traceback": [
      "\u001b[0;31m---------------------------------------------------------------------------\u001b[0m",
      "\u001b[0;31mTypeError\u001b[0m                                 Traceback (most recent call last)",
      "\u001b[0;32m<ipython-input-68-1eac2fc29b37>\u001b[0m in \u001b[0;36m<module>\u001b[0;34m\u001b[0m\n\u001b[1;32m     11\u001b[0m \u001b[0;34m\u001b[0m\u001b[0m\n\u001b[1;32m     12\u001b[0m \u001b[0;31m# function calls that generate error\u001b[0m\u001b[0;34m\u001b[0m\u001b[0;34m\u001b[0m\u001b[0;34m\u001b[0m\u001b[0m\n\u001b[0;32m---> 13\u001b[0;31m \u001b[0mtest\u001b[0m\u001b[0;34m(\u001b[0m\u001b[0mb\u001b[0m\u001b[0;34m=\u001b[0m\u001b[0;34m'B'\u001b[0m\u001b[0;34m,\u001b[0m \u001b[0mB\u001b[0m\u001b[0;34m=\u001b[0m\u001b[0;34m'A'\u001b[0m\u001b[0;34m)\u001b[0m\u001b[0;34m\u001b[0m\u001b[0;34m\u001b[0m\u001b[0m\n\u001b[0m",
      "\u001b[0;31mTypeError\u001b[0m: test() missing 1 required positional argument: 'a'"
     ]
    }
   ],
   "source": [
    "# calling function by name\n",
    "def test(a, b, B):\n",
    "    print( f'a: {a}' )\n",
    "    print( f'b: {b}')\n",
    "    print( f'B: {B}')\n",
    "    \n",
    "# function calls that produce same result\n",
    "#test('A', 'B') # test('A', 'B')\n",
    "#test('A', b='B')  # test('A', 'B')\n",
    "#test(b='B', a='A') # test('A', 'B')\n",
    "\n",
    "# function calls that generate error\n",
    "test(b='B', B='A')"
   ]
  },
  {
   "cell_type": "markdown",
   "metadata": {},
   "source": [
    "*__All positional arguments - except ones with default values - need to be supplied__*"
   ]
  },
  {
   "cell_type": "code",
   "execution_count": 69,
   "metadata": {},
   "outputs": [
    {
     "ename": "SyntaxError",
     "evalue": "non-default argument follows default argument (<ipython-input-69-c68462c6de37>, line 4)",
     "output_type": "error",
     "traceback": [
      "\u001b[0;36m  File \u001b[0;32m\"<ipython-input-69-c68462c6de37>\"\u001b[0;36m, line \u001b[0;32m4\u001b[0m\n\u001b[0;31m    def test(a, b=\"B\", c):\u001b[0m\n\u001b[0m            ^\u001b[0m\n\u001b[0;31mSyntaxError\u001b[0m\u001b[0;31m:\u001b[0m non-default argument follows default argument\n"
     ]
    }
   ],
   "source": [
    "# All parameters after one with default value, \n",
    "# should also have default values\n",
    "# the following function does not compile\n",
    "def test(a, b=\"B\", c):\n",
    "    print( f'a: {a}')\n",
    "    print( f'b: {b}')\n",
    "    print( f'c: {c}')"
   ]
  },
  {
   "cell_type": "code",
   "execution_count": 73,
   "metadata": {},
   "outputs": [
    {
     "name": "stdout",
     "output_type": "stream",
     "text": [
      "a: A\n",
      "b: B\n"
     ]
    }
   ],
   "source": [
    "# supplying parameters as a list/tuple\n",
    "# values from a list/tuple prefixed with * are \n",
    "# assigned to positional parameters\n",
    "def test(a, b):\n",
    "    print( f'a: {a}' )\n",
    "    print( f'b: {b}')\n",
    "   \n",
    "my_params = ('A', 'B')\n",
    "test( *my_params )"
   ]
  },
  {
   "cell_type": "code",
   "execution_count": 75,
   "metadata": {},
   "outputs": [
    {
     "data": {
      "text/plain": [
       "15"
      ]
     },
     "execution_count": 75,
     "metadata": {},
     "output_type": "execute_result"
    }
   ],
   "source": [
    "def sum_all(*args):\n",
    "    return sum(args)\n",
    "\n",
    "l = [1,2,3,4,5]\n",
    "print( sum_all( *l ) )\n",
    "print( sum_all( 1, 2, 3, 4, 5, ) )"
   ]
  },
  {
   "cell_type": "code",
   "execution_count": 77,
   "metadata": {},
   "outputs": [
    {
     "name": "stdout",
     "output_type": "stream",
     "text": [
      "0\n",
      "30\n"
     ]
    }
   ],
   "source": [
    "def mult_and_sum(multiply_by, *args):\n",
    "    return sum(map( lambda x: x*multiply_by, args))\n",
    "\n",
    "print( mult_and_sum(0, 1,2,3,4,5) )\n",
    "print( mult_and_sum(2, *[1,2,3,4,5] ))"
   ]
  },
  {
   "cell_type": "code",
   "execution_count": 80,
   "metadata": {},
   "outputs": [
    {
     "name": "stdout",
     "output_type": "stream",
     "text": [
      "a: a\n",
      "b: BBB\n"
     ]
    }
   ],
   "source": [
    "# supplying parameters as a dict\n",
    "# values from a dict prefixed with ** are \n",
    "# assigned to keyword parameters\n",
    "def test(a, b='B'):\n",
    "    print( f'a: {a}' )\n",
    "    print( f'b: {b}')\n",
    "   \n",
    "my_params = {'b': 'BBB'}\n",
    "test( 'a', **my_params)"
   ]
  },
  {
   "cell_type": "code",
   "execution_count": 43,
   "metadata": {},
   "outputs": [
    {
     "name": "stdout",
     "output_type": "stream",
     "text": [
      "arg: 1\n",
      "arg: 2\n",
      "arg: 3\n",
      "arg: 4\n",
      "arg: A\n",
      "arg: B\n",
      "arg: C\n",
      "arg: D\n"
     ]
    }
   ],
   "source": [
    "# passing variable number of Positional parameters\n",
    "def test(*args):\n",
    "    for i in args:\n",
    "        print( f'arg: {i}')\n",
    "        \n",
    "\n",
    "test( 1, 2, 3, 4)\n",
    "test( *['A', 'B', 'C', 'D'])"
   ]
  },
  {
   "cell_type": "code",
   "execution_count": 85,
   "metadata": {},
   "outputs": [
    {
     "ename": "TypeError",
     "evalue": "test() takes 0 positional arguments but 4 were given",
     "output_type": "error",
     "traceback": [
      "\u001b[0;31m---------------------------------------------------------------------------\u001b[0m",
      "\u001b[0;31mTypeError\u001b[0m                                 Traceback (most recent call last)",
      "\u001b[0;32m<ipython-input-85-502276f8c0f1>\u001b[0m in \u001b[0;36m<module>\u001b[0;34m\u001b[0m\n\u001b[1;32m      7\u001b[0m \u001b[0;31m# test( blr='KA', mas='TN', bom='MH', delhi='DEL') # {'blr': 'KA', ...}\u001b[0m\u001b[0;34m\u001b[0m\u001b[0;34m\u001b[0m\u001b[0;34m\u001b[0m\u001b[0m\n\u001b[1;32m      8\u001b[0m \u001b[0;31m# test( **{'blr': 'ka', 'mas': 'tn', 'bom': 'mh'} )\u001b[0m\u001b[0;34m\u001b[0m\u001b[0;34m\u001b[0m\u001b[0;34m\u001b[0m\u001b[0m\n\u001b[0;32m----> 9\u001b[0;31m \u001b[0mtest\u001b[0m\u001b[0;34m(\u001b[0m \u001b[0;34m*\u001b[0m\u001b[0;34m[\u001b[0m\u001b[0;34m'A'\u001b[0m\u001b[0;34m,\u001b[0m \u001b[0;34m'B'\u001b[0m\u001b[0;34m,\u001b[0m \u001b[0;34m'C'\u001b[0m\u001b[0;34m,\u001b[0m \u001b[0;34m'D'\u001b[0m\u001b[0;34m]\u001b[0m\u001b[0;34m)\u001b[0m\u001b[0;34m\u001b[0m\u001b[0;34m\u001b[0m\u001b[0m\n\u001b[0m",
      "\u001b[0;31mTypeError\u001b[0m: test() takes 0 positional arguments but 4 were given"
     ]
    }
   ],
   "source": [
    "# passing variable number of Keyword parameters\n",
    "def test(**kwdargs):\n",
    "    for k in kwdargs:\n",
    "        print( f'arg: <key:{k}, val:{kwdargs[k]}>')\n",
    "        \n",
    "\n",
    "# test( blr='KA', mas='TN', bom='MH', delhi='DEL') # {'blr': 'KA', ...}\n",
    "# test( **{'blr': 'ka', 'mas': 'tn', 'bom': 'mh'} )\n",
    "# test( *['A', 'B', 'C', 'D'])"
   ]
  },
  {
   "cell_type": "code",
   "execution_count": 88,
   "metadata": {},
   "outputs": [
    {
     "name": "stdout",
     "output_type": "stream",
     "text": [
      "a: 1\n",
      "b: 2\n"
     ]
    }
   ],
   "source": [
    "# Nested functions\n",
    "def test(a, b):\n",
    "    # a neseted function has access to \n",
    "    # all the variables in containing function\n",
    "    def format_params():\n",
    "        return f'a: {a}\\nb: {b}'\n",
    "    \n",
    "    return format_params()\n",
    "    \n",
    "print( test(1, 2) )  "
   ]
  },
  {
   "cell_type": "code",
   "execution_count": 89,
   "metadata": {},
   "outputs": [
    {
     "name": "stdout",
     "output_type": "stream",
     "text": [
      "<class 'function'>\n",
      "10 incremented by 5: 15\n"
     ]
    }
   ],
   "source": [
    "# a function can return another function\n",
    "# powerful technique - foundation for functional programming paradigm\n",
    "\n",
    "def create_incrementer(increment_by):\n",
    "    \n",
    "    def increment(num, by=increment_by):\n",
    "        return num + by\n",
    "    \n",
    "    return increment\n",
    "\n",
    "incr_by_5 = create_incrementer(5)\n",
    "print( type(incr_by_5) )\n",
    "print( f'10 incremented by 5: {incr_by_5(10)}')\n",
    "\n",
    "#incr_by_20 = create_incrementer(20)\n",
    "#print( f'30 incremented by 20: {incr_by_20(30)}')\n",
    "\n"
   ]
  },
  {
   "cell_type": "code",
   "execution_count": 34,
   "metadata": {},
   "outputs": [
    {
     "name": "stdout",
     "output_type": "stream",
     "text": [
      " prints two parameters in separate lines.\n",
      "    \n"
     ]
    }
   ],
   "source": [
    "# function doc strings convery the purpose of the function\n",
    "def test(a, b):\n",
    "    ''' prints two parameters in separate lines.\n",
    "    '''\n",
    "    return f'a: {a}\\nb: {b}'\n",
    "    \n",
    "print( test.__doc__) "
   ]
  },
  {
   "cell_type": "markdown",
   "metadata": {},
   "source": [
    "# Comprehensions\n",
    "\n",
    "Helps in creating Lists, tuples, sets, and dictionaries in a concise way.\n",
    "\n",
    "General syntax:\n",
    "\n",
    "```python\n",
    "expr(var) <<one-or-more-for-loops>> <<optional-predicate>>\n",
    "```\n",
    "\n",
    "List comprehensions:\n",
    "   - \\[ comprehension \\]\n",
    "   - list( comprehension )\n",
    " \n",
    "Tuple:\n",
    "    - tuple( comprehension )\n",
    "    \n",
    "set: \n",
    "    - \\{ comprehension \\}\n",
    "    = set( comprehension )\n",
    "    \n",
    "dict:\n",
    "    - \\{ k:v comprehension \\}\n",
    "    - dict( (k, v) comprehension )\n"
   ]
  },
  {
   "cell_type": "code",
   "execution_count": 143,
   "metadata": {},
   "outputs": [],
   "source": [
    "# File processing\n",
    "# file reading\n",
    "fin = open('/Users/venkata.rammohan/nltk_data/corpora/wordnet/data.verb', 'r')\n",
    "fout = open('/tmp/temp.txt', 'w')\n",
    "count = 0\n",
    "for line in fin.readlines():\n",
    "    fout.write(line)\n",
    "fin.close()\n",
    "fout.close()\n",
    "# file writing"
   ]
  },
  {
   "cell_type": "code",
   "execution_count": 138,
   "metadata": {},
   "outputs": [
    {
     "name": "stdout",
     "output_type": "stream",
     "text": [
      "0\n",
      "1\n",
      "2\n",
      "3\n",
      "4\n",
      "5\n",
      "6\n",
      "7\n",
      "8\n",
      "9\n"
     ]
    }
   ],
   "source": [
    "# Generators\n",
    "def get_numbers( numbers ):\n",
    "        '''\n",
    "        l = []\n",
    "        for i in range( numbers ):\n",
    "            l.append( i)\n",
    "        return l\n",
    "        '''\n",
    "        for i in range( numbers ):\n",
    "            yield i\n",
    "        \n",
    "        return None\n",
    "\n",
    "for j in get_numbers(10):\n",
    "    print(j)"
   ]
  },
  {
   "cell_type": "code",
   "execution_count": 133,
   "metadata": {},
   "outputs": [
    {
     "name": "stdout",
     "output_type": "stream",
     "text": [
      "type: <class 'dict'>\n",
      "data: {0: True, 5: True, 10: True, 15: True, 20: True, 25: True, 30: True, 35: True, 40: True, 45: True, 50: True, 55: True, 60: True, 65: True, 70: True, 75: True, 80: True, 85: True, 90: True, 95: True}\n"
     ]
    }
   ],
   "source": [
    "#l = [i for i in range(100) if i % 5 == 0 ]\n",
    "#l = list( i for i in range(100) if i % 5 == 0 ) \n",
    "l = dict( (i,True) for i in range(100) if i % 5 == 0 )\n",
    "'''\n",
    "l = []\n",
    "for i in range(100):\n",
    "    if i % 5 == 0:\n",
    "        l.append( i )\n",
    "'''\n",
    "print( f'type: {type(l)}')\n",
    "print( f'data: {l}')\n"
   ]
  },
  {
   "cell_type": "code",
   "execution_count": 126,
   "metadata": {},
   "outputs": [
    {
     "name": "stdout",
     "output_type": "stream",
     "text": [
      "type: <class 'list'>\n",
      "data: [[0, 10], [1, 9], [2, 8], [3, 7], [4, 6], [5, 5]]\n"
     ]
    }
   ],
   "source": [
    "# pairs which add up to 10\n",
    "#pairs = [[i,j] for i in range(11) for j in range(11) if i <= j and i + j == 10]\n",
    "\n",
    "pairs = []\n",
    "for i in range(11):\n",
    "    for j in range(11):\n",
    "        if i <= j and i + j == 10:\n",
    "           pairs.append([i,j])\n",
    "\n",
    "print( f'type: {type(pairs)}')\n",
    "print( f'data: {pairs}')\n",
    "    "
   ]
  },
  {
   "cell_type": "code",
   "execution_count": 107,
   "metadata": {},
   "outputs": [
    {
     "name": "stdout",
     "output_type": "stream",
     "text": [
      "List of multiples of 5: [0, 5, 10, 15, 20, 25, 30, 35, 40, 45, 50, 55, 60, 65, 70, 75, 80, 85, 90, 95]\n"
     ]
    }
   ],
   "source": [
    "# List comprehensions\n",
    "# create a list of numbers divisible by 5\n",
    "l1 = [i for i in range(100) if i % 5 == 0]\n",
    "print( f'List of multiples of 5: {l1}')\n",
    "\n",
    "# pairs of numbers that sum up to 10\n",
    "#l2 = [(i,j) for i in range(10) for j in range(10) if i + j == 10]\n",
    "#print( f'pairs that sum up to 10: {l2}')\n",
    "\n",
    "# another way to create list comprehension\n",
    "# l3 = list( i for i in range(100) if i % 5 == 0)\n",
    "# print( f'list comprehension other format: {l3}')"
   ]
  },
  {
   "cell_type": "code",
   "execution_count": 112,
   "metadata": {},
   "outputs": [
    {
     "name": "stdout",
     "output_type": "stream",
     "text": [
      "Type: <class 'generator'>\n",
      "data: <generator object <genexpr> at 0x109a62a98>\n",
      "Type: <class 'tuple'>\n",
      "data: (0, 5, 10, 15, 20, 25, 30, 35, 40, 45, 50, 55, 60, 65, 70, 75, 80, 85, 90, 95)\n"
     ]
    }
   ],
   "source": [
    "# Tuple comprehension\n",
    "t1 = ( i for i in range(100) if i % 5 == 0)\n",
    "print( f'Type: {type(t1)}')\n",
    "print( f'data: {t1}')\n",
    "\n",
    "# Tuple comprehension should use tuple() explicitly\n",
    "t2 = tuple( i for i in range(100) if i % 5 == 0)\n",
    "print( f'Type: {type(t2)}')\n",
    "print( f'data: {t2}')"
   ]
  },
  {
   "cell_type": "code",
   "execution_count": 116,
   "metadata": {},
   "outputs": [
    {
     "name": "stdout",
     "output_type": "stream",
     "text": [
      "Type: <class 'set'>\n",
      "data: {0, 5, 10, 15, 20, 25, 30, 35, 40, 45, 50, 55, 60, 65, 70, 75, 80, 85, 90, 95}\n",
      "Type: <class 'set'>\n",
      "data: {0, 5, 10, 15, 20, 25, 30, 35, 40, 45, 50, 55, 60, 65, 70, 75, 80, 85, 90, 95}\n"
     ]
    }
   ],
   "source": [
    "# set comprehension\n",
    "s1 = { i for i in range(100) if i % 5 == 0 }\n",
    "print( f'Type: {type(s1)}')\n",
    "print( f'data: {s1}')\n",
    "\n",
    "# Other form \n",
    "s2 = set( i for i in range(100) if i % 5 == 0 )\n",
    "print( f'Type: {type(s2)}')\n",
    "print( f'data: {s2}')"
   ]
  },
  {
   "cell_type": "code",
   "execution_count": 120,
   "metadata": {},
   "outputs": [
    {
     "name": "stdout",
     "output_type": "stream",
     "text": [
      "Type: <class 'dict'>\n",
      "data: {0: True, 5: True, 10: True, 15: True, 20: True, 25: True, 30: True, 35: True, 40: True, 45: True, 50: True, 55: True, 60: True, 65: True, 70: True, 75: True, 80: True, 85: True, 90: True, 95: True}\n",
      "Type: <class 'dict'>\n",
      "data: {0: True, 5: True, 10: True, 15: True, 20: True, 25: True, 30: True, 35: True, 40: True, 45: True, 50: True, 55: True, 60: True, 65: True, 70: True, 75: True, 80: True, 85: True, 90: True, 95: True}\n"
     ]
    }
   ],
   "source": [
    "# dictionary comprehension\n",
    "d1 = { i:True for i in range(100) if i % 5 == 0 }\n",
    "print( f'Type: {type(d1)}')\n",
    "print( f'data: {d1}')\n",
    "\n",
    "# other form - note (k, v) instead of k:v\n",
    "d2 = dict( (i,True) for i in range(100) if i % 5 == 0 )\n",
    "print( f'Type: {type(d2)}')\n",
    "print( f'data: {d2}')"
   ]
  },
  {
   "cell_type": "markdown",
   "metadata": {},
   "source": [
    "# Generators"
   ]
  },
  {
   "cell_type": "code",
   "execution_count": 121,
   "metadata": {},
   "outputs": [
    {
     "name": "stdout",
     "output_type": "stream",
     "text": [
      "0\n",
      "1\n",
      "2\n",
      "3\n",
      "4\n",
      "5\n",
      "6\n",
      "7\n",
      "8\n",
      "9\n"
     ]
    }
   ],
   "source": [
    "def get_numbers():\n",
    "    for i in range(10):\n",
    "        yield i\n",
    "\n",
    "for j in get_numbers():\n",
    "    print(j)"
   ]
  },
  {
   "cell_type": "markdown",
   "metadata": {},
   "source": [
    "# File Processing"
   ]
  },
  {
   "cell_type": "code",
   "execution_count": null,
   "metadata": {},
   "outputs": [],
   "source": []
  },
  {
   "cell_type": "code",
   "execution_count": null,
   "metadata": {},
   "outputs": [],
   "source": []
  },
  {
   "cell_type": "markdown",
   "metadata": {},
   "source": [
    "# Exceptions"
   ]
  },
  {
   "cell_type": "code",
   "execution_count": 149,
   "metadata": {},
   "outputs": [
    {
     "ename": "ModuleNotFoundError",
     "evalue": "No module named 'sys.path'; 'sys' is not a package",
     "output_type": "error",
     "traceback": [
      "\u001b[0;31m---------------------------------------------------------------------------\u001b[0m",
      "\u001b[0;31mModuleNotFoundError\u001b[0m                       Traceback (most recent call last)",
      "\u001b[0;32m<ipython-input-149-00c08868466b>\u001b[0m in \u001b[0;36m<module>\u001b[0;34m\u001b[0m\n\u001b[1;32m      1\u001b[0m \u001b[0;32mimport\u001b[0m \u001b[0msys\u001b[0m\u001b[0;34m\u001b[0m\u001b[0;34m\u001b[0m\u001b[0m\n\u001b[0;32m----> 2\u001b[0;31m \u001b[0;32mimport\u001b[0m \u001b[0msys\u001b[0m\u001b[0;34m.\u001b[0m\u001b[0mpath\u001b[0m\u001b[0;34m\u001b[0m\u001b[0;34m\u001b[0m\u001b[0m\n\u001b[0m",
      "\u001b[0;31mModuleNotFoundError\u001b[0m: No module named 'sys.path'; 'sys' is not a package"
     ]
    }
   ],
   "source": [
    "import sys"
   ]
  },
  {
   "cell_type": "code",
   "execution_count": 151,
   "metadata": {},
   "outputs": [
    {
     "data": {
      "text/plain": [
       "'Built-in mutable sequence.\\n\\nIf no argument is given, the constructor creates a new empty list.\\nThe argument must be an iterable if specified.'"
      ]
     },
     "execution_count": 151,
     "metadata": {},
     "output_type": "execute_result"
    }
   ],
   "source": [
    "sys.path.__doc__"
   ]
  },
  {
   "cell_type": "code",
   "execution_count": 153,
   "metadata": {},
   "outputs": [
    {
     "name": "stdout",
     "output_type": "stream",
     "text": [
      "0\n",
      "1\n",
      "2\n"
     ]
    },
    {
     "ename": "StopIteration",
     "evalue": "",
     "output_type": "error",
     "traceback": [
      "\u001b[0;31m---------------------------------------------------------------------------\u001b[0m",
      "\u001b[0;31mStopIteration\u001b[0m                             Traceback (most recent call last)",
      "\u001b[0;32m<ipython-input-153-52373bc83d54>\u001b[0m in \u001b[0;36m<module>\u001b[0;34m\u001b[0m\n\u001b[1;32m      8\u001b[0m \u001b[0mprint\u001b[0m\u001b[0;34m(\u001b[0m \u001b[0;34mf'{next( nums )}'\u001b[0m\u001b[0;34m)\u001b[0m\u001b[0;34m\u001b[0m\u001b[0;34m\u001b[0m\u001b[0m\n\u001b[1;32m      9\u001b[0m \u001b[0mprint\u001b[0m\u001b[0;34m(\u001b[0m \u001b[0;34mf'{next( nums )}'\u001b[0m\u001b[0;34m)\u001b[0m\u001b[0;34m\u001b[0m\u001b[0;34m\u001b[0m\u001b[0m\n\u001b[0;32m---> 10\u001b[0;31m \u001b[0mprint\u001b[0m\u001b[0;34m(\u001b[0m \u001b[0;34mf'{next( nums )}'\u001b[0m\u001b[0;34m)\u001b[0m\u001b[0;34m\u001b[0m\u001b[0;34m\u001b[0m\u001b[0m\n\u001b[0m",
      "\u001b[0;31mStopIteration\u001b[0m: "
     ]
    }
   ],
   "source": [
    "def get_numbers( numbers ):\n",
    "    for i in range(numbers):\n",
    "        yield i\n",
    "        \n",
    "\n",
    "nums = get_numbers( 3 )\n",
    "print( f'{next( nums )}')\n",
    "print( f'{next( nums )}')\n",
    "print( f'{next( nums )}')\n",
    "print( f'{next( nums )}')"
   ]
  },
  {
   "cell_type": "code",
   "execution_count": null,
   "metadata": {},
   "outputs": [],
   "source": []
  }
 ],
 "metadata": {
  "kernelspec": {
   "display_name": "Python 3",
   "language": "python",
   "name": "python3"
  },
  "language_info": {
   "codemirror_mode": {
    "name": "ipython",
    "version": 3
   },
   "file_extension": ".py",
   "mimetype": "text/x-python",
   "name": "python",
   "nbconvert_exporter": "python",
   "pygments_lexer": "ipython3",
   "version": "3.7.2"
  }
 },
 "nbformat": 4,
 "nbformat_minor": 2
}
