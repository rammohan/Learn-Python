{
 "cells": [
  {
   "cell_type": "markdown",
   "metadata": {},
   "source": [
    "# Functions\n",
    "\n",
    "### Function definition\n",
    "\n",
    "Functions are defined with reserved word **def**. A function:\n",
    "- can take zero or more parameters\n",
    "- **always** returns a value, *a function can return a function as well!*\n",
    "- parameters can take default values\n",
    "- parameters come in two flavors\n",
    "    - **positional**\n",
    "    - **keyword**\n",
    "- can be **nested**\n",
    "- can have a **doc string**\n",
    "\n",
    "function defintion template\n",
    "```python \n",
    "def function_name(param1, param2, ...):\n",
    "    statement-1\n",
    "    statement-2\n",
    "```"
   ]
  },
  {
   "cell_type": "code",
   "execution_count": 7,
   "metadata": {},
   "outputs": [
    {
     "name": "stdout",
     "output_type": "stream",
     "text": [
      "it works\n"
     ]
    }
   ],
   "source": [
    "# function with no parameters\n",
    "# paranthesis are mandatory if even if function takes no parameters\n",
    "def test_fn():\n",
    "    print('it works')\n",
    "    \n",
    "test_fn()"
   ]
  },
  {
   "cell_type": "code",
   "execution_count": 11,
   "metadata": {},
   "outputs": [
    {
     "name": "stdout",
     "output_type": "stream",
     "text": [
      "a: 1\n",
      "b: 2\n"
     ]
    }
   ],
   "source": [
    "# positional parameters - example 1\n",
    "def test(a, b):\n",
    "    print( f'a: {a}' )\n",
    "    print( f'b: {b}')\n",
    "    \n",
    "# positional assignments:\n",
    "# a is assigned 1, and\n",
    "# b is assigned 2\n",
    "test( 1, 2)"
   ]
  },
  {
   "cell_type": "code",
   "execution_count": 24,
   "metadata": {},
   "outputs": [
    {
     "name": "stdout",
     "output_type": "stream",
     "text": [
      "a: 1\n",
      "b: 2\n"
     ]
    }
   ],
   "source": [
    "# function always returns a value\n",
    "# this function does not return a value ?\n",
    "def test(a, b):\n",
    "    return f'a: {a}\\nb: {b}'\n",
    "    \n",
    "print( test(1, 2) )  "
   ]
  },
  {
   "cell_type": "code",
   "execution_count": 27,
   "metadata": {},
   "outputs": [
    {
     "name": "stdout",
     "output_type": "stream",
     "text": [
      "a: 1\n",
      "b: 2\n",
      "None\n"
     ]
    }
   ],
   "source": [
    "# function returns None by default\n",
    "#  i.e. if no return statement is found\n",
    "def test(a, b):\n",
    "    print(f'a: {a}\\nb: {b}')\n",
    "    \n",
    "print( test(1, 2) )  "
   ]
  },
  {
   "cell_type": "code",
   "execution_count": 41,
   "metadata": {},
   "outputs": [
    {
     "name": "stdout",
     "output_type": "stream",
     "text": [
      "a: 1\n",
      "b: 20\n",
      "a: 4\n",
      "b: 5\n"
     ]
    }
   ],
   "source": [
    "# default values \n",
    "# parameters with default value are called keyword params\n",
    "def test(a, b=20):\n",
    "    print( f'a: {a}' )\n",
    "    print( f'b: {b}')\n",
    "\n",
    "# a is assigned 1, and\n",
    "# since no value for b is supplied it assumes default value 20\n",
    "test(1)\n",
    "\n",
    "# we can supply value for b as well\n",
    "test(4, 5)"
   ]
  },
  {
   "cell_type": "code",
   "execution_count": 28,
   "metadata": {},
   "outputs": [
    {
     "name": "stdout",
     "output_type": "stream",
     "text": [
      "a: A\n",
      "b: B\n"
     ]
    }
   ],
   "source": [
    "# calling function by name\n",
    "def test(a, b):\n",
    "    print( f'a: {a}' )\n",
    "    print( f'b: {b}')\n",
    "    \n",
    "# function calls that produce same result\n",
    "test('A', 'B')\n",
    "#test('A', b='B')\n",
    "#test(b='B', a='A')\n",
    "\n",
    "# function calls that generate error\n",
    "#test(b='B')"
   ]
  },
  {
   "cell_type": "markdown",
   "metadata": {},
   "source": [
    "*__All positional arguments - except ones with default values - need to be supplied__*"
   ]
  },
  {
   "cell_type": "code",
   "execution_count": 36,
   "metadata": {},
   "outputs": [
    {
     "ename": "SyntaxError",
     "evalue": "non-default argument follows default argument (<ipython-input-36-c68462c6de37>, line 4)",
     "output_type": "error",
     "traceback": [
      "\u001b[0;36m  File \u001b[0;32m\"<ipython-input-36-c68462c6de37>\"\u001b[0;36m, line \u001b[0;32m4\u001b[0m\n\u001b[0;31m    def test(a, b=\"B\", c):\u001b[0m\n\u001b[0m            ^\u001b[0m\n\u001b[0;31mSyntaxError\u001b[0m\u001b[0;31m:\u001b[0m non-default argument follows default argument\n"
     ]
    }
   ],
   "source": [
    "# All parameters after one with default value, \n",
    "# should also have default values\n",
    "# the following function does not compile\n",
    "def test(a, b=\"B\", c):\n",
    "    print( f'a: {a}')\n",
    "    print( f'b: {b}')\n",
    "    print( f'c: {c}')"
   ]
  },
  {
   "cell_type": "code",
   "execution_count": 39,
   "metadata": {},
   "outputs": [
    {
     "name": "stdout",
     "output_type": "stream",
     "text": [
      "a: A\n",
      "b: B\n"
     ]
    }
   ],
   "source": [
    "# supplying parameters as a list/tuple\n",
    "# values from a list/tuple prefixed with * are \n",
    "# assigned to positional parameters\n",
    "def test(a, b):\n",
    "    print( f'a: {a}' )\n",
    "    print( f'b: {b}')\n",
    "   \n",
    "my_params = ['A', 'B']\n",
    "test( *my_params )"
   ]
  },
  {
   "cell_type": "code",
   "execution_count": 40,
   "metadata": {},
   "outputs": [
    {
     "name": "stdout",
     "output_type": "stream",
     "text": [
      "a: a\n",
      "b: BBB\n"
     ]
    }
   ],
   "source": [
    "# supplying parameters as a dict\n",
    "# values from a dict prefixed with ** are \n",
    "# assigned to keyword parameters\n",
    "def test(a, b='B'):\n",
    "    print( f'a: {a}' )\n",
    "    print( f'b: {b}')\n",
    "   \n",
    "my_params = {'b': 'BBB'}\n",
    "test( 'a', **my_params)"
   ]
  },
  {
   "cell_type": "code",
   "execution_count": 43,
   "metadata": {},
   "outputs": [
    {
     "name": "stdout",
     "output_type": "stream",
     "text": [
      "arg: 1\n",
      "arg: 2\n",
      "arg: 3\n",
      "arg: 4\n",
      "arg: A\n",
      "arg: B\n",
      "arg: C\n",
      "arg: D\n"
     ]
    }
   ],
   "source": [
    "# passing variable number of Positional parameters\n",
    "def test(*args):\n",
    "    for i in args:\n",
    "        print( f'arg: {i}')\n",
    "        \n",
    "\n",
    "test( 1, 2, 3, 4)\n",
    "test( *['A', 'B', 'C', 'D'])"
   ]
  },
  {
   "cell_type": "code",
   "execution_count": 47,
   "metadata": {},
   "outputs": [
    {
     "name": "stdout",
     "output_type": "stream",
     "text": [
      "arg: <key:blr, val:ka>\n",
      "arg: <key:mas, val:tn>\n",
      "arg: <key:bom, val:mh>\n"
     ]
    }
   ],
   "source": [
    "# passing variable number of Keyword parameters\n",
    "def test(**kwdargs):\n",
    "    for k in kwdargs:\n",
    "        print( f'arg: <key:{k}, val:{kwdargs[k]}>')\n",
    "        \n",
    "\n",
    "test( **{'blr': 'ka', 'mas': 'tn', 'bom': 'mh'} )\n",
    "#test( *['A', 'B', 'C', 'D'])"
   ]
  },
  {
   "cell_type": "code",
   "execution_count": 31,
   "metadata": {},
   "outputs": [
    {
     "name": "stdout",
     "output_type": "stream",
     "text": [
      "a: 1\n",
      "b: 2\n"
     ]
    }
   ],
   "source": [
    "# Nested functions\n",
    "def test(a, b):\n",
    "    # a neseted function has access to \n",
    "    # all the variables in containing function\n",
    "    def format_params():\n",
    "        return f'a: {a}\\nb: {b}'\n",
    "    \n",
    "    return format_params()\n",
    "    \n",
    "print( test(1, 2) )  "
   ]
  },
  {
   "cell_type": "code",
   "execution_count": 33,
   "metadata": {},
   "outputs": [
    {
     "name": "stdout",
     "output_type": "stream",
     "text": [
      "10 incremented by 5: 15\n",
      "30 incremented by 20: 50\n"
     ]
    }
   ],
   "source": [
    "# a function can return another function\n",
    "# powerful technique - foundation for functional programming paradigm\n",
    "\n",
    "def create_incrementer(increment_by):\n",
    "    \n",
    "    def increment(num, by=increment_by):\n",
    "        return num + by\n",
    "    \n",
    "    return increment\n",
    "\n",
    "incr_by_5 = create_incrementer(5)\n",
    "print( f'10 incremented by 5: {incr_by_5(10)}')\n",
    "\n",
    "incr_by_20 = create_incrementer(20)\n",
    "print( f'30 incremented by 20: {incr_by_20(30)}')\n",
    "\n"
   ]
  },
  {
   "cell_type": "code",
   "execution_count": 34,
   "metadata": {},
   "outputs": [
    {
     "name": "stdout",
     "output_type": "stream",
     "text": [
      " prints two parameters in separate lines.\n",
      "    \n"
     ]
    }
   ],
   "source": [
    "# function doc strings convery the purpose of the function\n",
    "def test(a, b):\n",
    "    ''' prints two parameters in separate lines.\n",
    "    '''\n",
    "    return f'a: {a}\\nb: {b}'\n",
    "    \n",
    "print( test.__doc__) "
   ]
  },
  {
   "cell_type": "code",
   "execution_count": null,
   "metadata": {},
   "outputs": [],
   "source": [
    "# passing variable number of "
   ]
  }
 ],
 "metadata": {
  "kernelspec": {
   "display_name": "Python 3",
   "language": "python",
   "name": "python3"
  },
  "language_info": {
   "codemirror_mode": {
    "name": "ipython",
    "version": 3
   },
   "file_extension": ".py",
   "mimetype": "text/x-python",
   "name": "python",
   "nbconvert_exporter": "python",
   "pygments_lexer": "ipython3",
   "version": "3.7.2"
  }
 },
 "nbformat": 4,
 "nbformat_minor": 2
}
