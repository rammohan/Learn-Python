{
 "cells": [
  {
   "cell_type": "markdown",
   "metadata": {},
   "source": [
    "**Table of Contents**\n",
    "\n",
    "1. [Functions](#functions)\n",
    "    1. [Takes zero or more params](#zero-or-more-params)\n",
    "    1. [Always returns a value](#returns-always)\n",
    "1. [Parameters](#params)\n",
    "    1. [Positional Parameters](#positional)\n",
    "    1. [Default Parameters](#kwdparams)\n",
    "    1. [Variable number of parameters](#variable-params)\n",
    "1. [Parameter and return value data types](#param-return-types)"
   ]
  },
  {
   "cell_type": "markdown",
   "metadata": {},
   "source": [
    "<a id='functions'>1. Functions</a>\n",
    "\n",
    "A user defined function is created using Python's **def** keyword. General template of a function is:\n",
    "\n",
    "```python\n",
    "def function_name( zero_or_more_parameters ):\n",
    "    function_body\n",
    "```\n",
    "\n",
    "A function in Python:\n",
    "1. can take zero or more parameters\n",
    "1. always returns a value\n",
    "1. need not specify data types of neither the parameetrs nor the return value\n",
    "1. can assign default values to parameters\n",
    "1. accepts two kinds of parameters:\n",
    "    1. positional\n",
    "    1. keyword\n",
    "1. can be nested\n",
    "1. can be decorated"
   ]
  },
  {
   "cell_type": "markdown",
   "metadata": {},
   "source": [
    "<a id=\"zero-or-more-params\">1.1 Takes zero or more params</a>\n",
    "\n",
    "Let's define a simple function with zero parameters. \n",
    "**Note**: <ins>parenthesis are mandatory even if a function does not take any parameters.</ins>"
   ]
  },
  {
   "cell_type": "code",
   "execution_count": 9,
   "metadata": {
    "code_folding": []
   },
   "outputs": [
    {
     "name": "stdout",
     "output_type": "stream",
     "text": [
      "hi\n"
     ]
    }
   ],
   "source": [
    "# function definition\n",
    "def wish():\n",
    "    return 'hi'\n",
    "\n",
    "# function is executed only when it is called\n",
    "print( wish() )"
   ]
  },
  {
   "cell_type": "markdown",
   "metadata": {},
   "source": [
    "Now, let's define a function which takes one parameter."
   ]
  },
  {
   "cell_type": "code",
   "execution_count": 10,
   "metadata": {},
   "outputs": [
    {
     "name": "stdout",
     "output_type": "stream",
     "text": [
      "Hi, Simon\n"
     ]
    }
   ],
   "source": [
    "# function defintion\n",
    "def wish( name ):\n",
    "    return f'Hi, {name}'\n",
    "\n",
    "# function execution\n",
    "print( wish('Simon') )"
   ]
  },
  {
   "cell_type": "markdown",
   "metadata": {},
   "source": [
    "<a id=\"returns-always\">1.B Always returns a value</a>\n",
    "\n",
    "A function, in Python, always returns a value. If no value is returned explicitly, Python returns **None**.\n",
    "\n",
    "Let's define a function with no explicit return value:"
   ]
  },
  {
   "cell_type": "code",
   "execution_count": 11,
   "metadata": {},
   "outputs": [
    {
     "name": "stdout",
     "output_type": "stream",
     "text": [
      "return value: None\n",
      "return value type: <class 'NoneType'>\n"
     ]
    }
   ],
   "source": [
    "# Note Python returns None\n",
    "def wish( name ):\n",
    "    message = f'Hi, {name}'\n",
    "\n",
    "result = wish('Simon')\n",
    "print( f'return value: {result}' )\n",
    "print( f'return value type: {type(result)}')"
   ]
  },
  {
   "cell_type": "markdown",
   "metadata": {},
   "source": [
    "<a id=\"params\">2. Parameters</a>\n",
    "\n",
    "<a id=\"positional\">2.A. Positional Parameters</a>\n",
    "\n",
    "Function parameters need to be specified without any data type. Two important things related to parameters:\n",
    "- parameter list to a function is just a comma separated list of paramerter names\n",
    "- actual arguments - supplied when a function is called - are assigned to corresponding paramerters in the function definition (<ins>positional assignment</ins>)\n",
    "\n",
    "Let's craete a simple function to subtract two numbers."
   ]
  },
  {
   "cell_type": "code",
   "execution_count": 15,
   "metadata": {
    "code_folding": []
   },
   "outputs": [],
   "source": [
    "def subtract(num1, num2):\n",
    "    return num1 - num2"
   ]
  },
  {
   "cell_type": "markdown",
   "metadata": {},
   "source": [
    "when this function is called using:\n",
    "```python\n",
    "subtarct( 5, 2 )\n",
    "```\n",
    "the arguments are assigned to parameters as follows:\n",
    "\n",
    "| parameter | argument |\n",
    "| --- | --- |\n",
    "| num1 | 5 |\n",
    "| num2 | 2 |\n",
    "\n"
   ]
  },
  {
   "cell_type": "code",
   "execution_count": 13,
   "metadata": {},
   "outputs": [
    {
     "name": "stdout",
     "output_type": "stream",
     "text": [
      "5-2 = 3\n",
      "2-5 = -3\n"
     ]
    }
   ],
   "source": [
    "# execute subtract function with different arguments\n",
    "five_minus_two = subtract( 5, 2 )\n",
    "print( f'5-2 = {five_minus_two}' )\n",
    "\n",
    "two_minus_five = subtract( 2, 5)\n",
    "print( f'2-5 = {two_minus_five}')"
   ]
  },
  {
   "cell_type": "markdown",
   "metadata": {},
   "source": [
    "<a id=\"kwdparams\">2.B. Default Parameters</a>\n",
    "\n",
    "A parameter can be assigned a default value, during function definition. When a function is called, default value parameters need not be supplied. If a default value parameter is not supplied, its value assigned during function definition is used.\n",
    "\n",
    "Default value is assigned to a parameter using the following syntax:\n",
    "```python\n",
    "parameter_name = expression\n",
    "```\n",
    "\n",
    "<ins>expression</ins> can be any valid python expression.\n",
    "\n",
    "Create a simple function with one default value parameter:"
   ]
  },
  {
   "cell_type": "code",
   "execution_count": 18,
   "metadata": {},
   "outputs": [],
   "source": [
    "def wish( name='sir' ):\n",
    "    return f'Hello, {name}!'    "
   ]
  },
  {
   "cell_type": "markdown",
   "metadata": {},
   "source": [
    "We can call this function using:\n",
    "1. **positional arguments**: when called with ```wish( 'Simon' )```, first argument('Simon') is assigned to first parameter(name), so the function returns ```'Hello, Simon!'```.\n",
    "2. **keyword arguments**: function can also called with ```wish( name='Simon')```. In this case paramter is assigned value of an argument with the same name. So, this function also returns ```'Hello, Simon!'```.\n",
    "3. **with no arguments**: when function is called with ```wish()```, parameter <ins>'name'</ins> assumes default value ```sir```, so the function call returns ```'Hello, sir!'```"
   ]
  },
  {
   "cell_type": "code",
   "execution_count": 23,
   "metadata": {},
   "outputs": [
    {
     "name": "stdout",
     "output_type": "stream",
     "text": [
      "called with positional args: Hello, Simon!\n",
      "called with keyword args: Hello, Simon!\n",
      "called with no args: Hello, sir!\n"
     ]
    }
   ],
   "source": [
    "# call using positional parameters\n",
    "with_positional_argument = wish( 'Simon')\n",
    "print( f'called with positional args: {with_positional_argument}')\n",
    "\n",
    "# call with keyword argument\n",
    "with_keyword_argument = wish( name='Simon' )\n",
    "print( f'called with keyword args: {with_keyword_argument}' )\n",
    "\n",
    "# call with no arguments\n",
    "with_no_argument = wish()\n",
    "print( f'called with no args: {with_no_argument}')"
   ]
  },
  {
   "cell_type": "code",
   "execution_count": 21,
   "metadata": {},
   "outputs": [
    {
     "data": {
      "text/plain": [
       "30781"
      ]
     },
     "execution_count": 21,
     "metadata": {},
     "output_type": "execute_result"
    }
   ],
   "source": []
  },
  {
   "cell_type": "code",
   "execution_count": null,
   "metadata": {},
   "outputs": [],
   "source": []
  }
 ],
 "metadata": {
  "kernelspec": {
   "display_name": "Python 3",
   "language": "python",
   "name": "python3"
  },
  "language_info": {
   "codemirror_mode": {
    "name": "ipython",
    "version": 3
   },
   "file_extension": ".py",
   "mimetype": "text/x-python",
   "name": "python",
   "nbconvert_exporter": "python",
   "pygments_lexer": "ipython3",
   "version": "3.7.2"
  },
  "toc": {
   "base_numbering": 1,
   "nav_menu": {},
   "number_sections": true,
   "sideBar": true,
   "skip_h1_title": false,
   "title_cell": "Table of Contents",
   "title_sidebar": "Contents",
   "toc_cell": false,
   "toc_position": {},
   "toc_section_display": true,
   "toc_window_display": false
  }
 },
 "nbformat": 4,
 "nbformat_minor": 2
}
