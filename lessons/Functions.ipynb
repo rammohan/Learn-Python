{
 "cells": [
  {
   "cell_type": "markdown",
   "metadata": {},
   "source": [
    "**Table of Contents**\n",
    "\n",
    "1. [Functions](#functions)\n",
    "    1. [Takes zero or more params](#zero-or-more-params)\n",
    "    1. [Always returns a value](#returns-always)\n",
    "1. [Parameters](#params)\n",
    "    1. [Non-default Parameters](#non-default-params)\n",
    "    1. [Default Parameters](#kwdparams)\n",
    "    1. [Variable number of parameters](#variable-params)\n",
    "1. [Parameter order](#param-order)\n",
    "1. [Function calls](#function-calls)\n",
    "1. [Parameter and return value data types](#param-return-types)\n",
    "1. [Nested functions](#nested)\n",
    "1. [Decorators](#decorators)"
   ]
  },
  {
   "cell_type": "markdown",
   "metadata": {},
   "source": [
    "<a id='functions'>1. Functions</a>\n",
    "\n",
    "A user defined function is created using Python's **def** keyword. Template for creating a function is:\n",
    "\n",
    "```python\n",
    "def function_name( zero_or_more_parameters ):\n",
    "    function_body\n",
    "```\n",
    "\n",
    "A function in Python:\n",
    "1. can take zero or more parameters\n",
    "1. always returns a value\n",
    "1. need not specify data types of neither the parameetrs nor the return value\n",
    "1. can assign default values to parameters\n",
    "1. accepts two kinds of parameters:\n",
    "    1. positional\n",
    "    1. keyword\n",
    "1. can be nested\n",
    "1. can be decorated"
   ]
  },
  {
   "cell_type": "markdown",
   "metadata": {},
   "source": [
    "<a id=\"zero-or-more-params\">1.1 Takes zero or more params</a>\n",
    "\n",
    "Let's define a simple function with zero parameters. \n",
    "**Note**: <ins>parenthesis are mandatory even if a function does not take any parameters.</ins>"
   ]
  },
  {
   "cell_type": "code",
   "execution_count": 55,
   "metadata": {
    "code_folding": []
   },
   "outputs": [
    {
     "name": "stdout",
     "output_type": "stream",
     "text": [
      "hi\n"
     ]
    }
   ],
   "source": [
    "# function definition\n",
    "def wish():\n",
    "    return 'hi'\n",
    "\n",
    "# function is executed only when it is called\n",
    "print( wish() )"
   ]
  },
  {
   "cell_type": "markdown",
   "metadata": {},
   "source": [
    "Now, let's define a function which takes one parameter."
   ]
  },
  {
   "cell_type": "code",
   "execution_count": 56,
   "metadata": {},
   "outputs": [
    {
     "name": "stdout",
     "output_type": "stream",
     "text": [
      "Hi, Simon\n"
     ]
    }
   ],
   "source": [
    "# function defintion\n",
    "def wish( name ):\n",
    "    return f'Hi, {name}'\n",
    "\n",
    "# function execution\n",
    "print( wish('Simon') )"
   ]
  },
  {
   "cell_type": "markdown",
   "metadata": {},
   "source": [
    "<a id=\"returns-always\">1.B Always returns a value</a>\n",
    "\n",
    "A function, in Python, always returns a value. If no value is returned explicitly, Python returns **None**.\n",
    "\n",
    "Let's define a function with no explicit return value:"
   ]
  },
  {
   "cell_type": "code",
   "execution_count": 57,
   "metadata": {},
   "outputs": [
    {
     "name": "stdout",
     "output_type": "stream",
     "text": [
      "return value: None\n",
      "return value type: <class 'NoneType'>\n"
     ]
    }
   ],
   "source": [
    "# Note Python returns None\n",
    "def wish( name ):\n",
    "    message = f'Hi, {name}'\n",
    "\n",
    "result = wish('Simon')\n",
    "print( f'return value: {result}' )\n",
    "print( f'return value type: {type(result)}')"
   ]
  },
  {
   "cell_type": "markdown",
   "metadata": {},
   "source": [
    "<a id=\"params\">2. Parameters</a>\n",
    "\n",
    "Function parameters need to be specified without any data type. <ins>Parameter list to a function is just a comma separated list of paramerter names</ins>.\n",
    "\n",
    "<a id=\"non-default-params\">2.A. Non-default Parameters</a>\n",
    "\n",
    "A parameter with no assigned default value is called non-default parameter. Zero or more non-default parameters can be supplied to a function. \n",
    "\n",
    "Actual arguments - supplied when a function is called - are assigned to corresponding paramerters in the function definition (<ins>positional assignment</ins>).\n",
    "\n",
    "Let's craete a simple function with non-default parameters to subtract two numbers."
   ]
  },
  {
   "cell_type": "code",
   "execution_count": 58,
   "metadata": {
    "code_folding": []
   },
   "outputs": [],
   "source": [
    "def subtract(num1, num2):\n",
    "    return num1 - num2"
   ]
  },
  {
   "cell_type": "markdown",
   "metadata": {},
   "source": [
    "when this function is called using:\n",
    "```python\n",
    "subtarct( 5, 2 )\n",
    "```\n",
    "the arguments are assigned to parameters as follows:\n",
    "\n",
    "| parameter | argument |\n",
    "| --- | --- |\n",
    "| num1 | 5 |\n",
    "| num2 | 2 |\n",
    "\n"
   ]
  },
  {
   "cell_type": "code",
   "execution_count": 59,
   "metadata": {},
   "outputs": [
    {
     "name": "stdout",
     "output_type": "stream",
     "text": [
      "5-2 = 3\n",
      "2-5 = -3\n"
     ]
    }
   ],
   "source": [
    "# execute subtract function with different arguments\n",
    "five_minus_two = subtract( 5, 2 )\n",
    "print( f'5-2 = {five_minus_two}' )\n",
    "\n",
    "two_minus_five = subtract( 2, 5)\n",
    "print( f'2-5 = {two_minus_five}')"
   ]
  },
  {
   "cell_type": "markdown",
   "metadata": {},
   "source": [
    "<a id=\"kwdparams\">2.B. Default Parameters</a>\n",
    "\n",
    "A parameter can be assigned a default value, during function definition. When a function is called, default value parameters need not be supplied. If a default value parameter is not supplied, its value assigned during function definition is used.\n",
    "\n",
    "Default value is assigned to a parameter using the following syntax:\n",
    "```python\n",
    "parameter_name = expression\n",
    "```\n",
    "\n",
    "<ins>expression</ins> can be any valid python expression.\n",
    "\n",
    "Create a simple function with one default value parameter:"
   ]
  },
  {
   "cell_type": "code",
   "execution_count": 60,
   "metadata": {},
   "outputs": [],
   "source": [
    "def wish( name='sir' ):\n",
    "    return f'Hello, {name}!'    "
   ]
  },
  {
   "cell_type": "markdown",
   "metadata": {},
   "source": [
    "We can call this function using:\n",
    "1. **positional arguments**: when called with ```wish( 'Simon' )```, first argument('Simon') is assigned to first parameter(name), so the function returns ```'Hello, Simon!'```.\n",
    "2. **keyword arguments**: function can also called with ```wish( name='Simon')```. In this case paramter is assigned value of an argument with the same name. So, this function also returns ```'Hello, Simon!'```.\n",
    "3. **with no arguments**: when function is called with ```wish()```, parameter <ins>'name'</ins> assumes default value ```sir```, so the function call returns ```'Hello, sir!'```"
   ]
  },
  {
   "cell_type": "code",
   "execution_count": 61,
   "metadata": {},
   "outputs": [
    {
     "name": "stdout",
     "output_type": "stream",
     "text": [
      "called with positional args: Hello, Simon!\n",
      "called with keyword args: Hello, Simon!\n",
      "called with no args: Hello, sir!\n"
     ]
    }
   ],
   "source": [
    "# call using positional parameters\n",
    "with_positional_argument = wish( 'Simon')\n",
    "print( f'called with positional args: {with_positional_argument}')\n",
    "\n",
    "# call with keyword argument\n",
    "with_keyword_argument = wish( name='Simon' )\n",
    "print( f'called with keyword args: {with_keyword_argument}' )\n",
    "\n",
    "# call with no arguments\n",
    "with_no_argument = wish()\n",
    "print( f'called with no args: {with_no_argument}')"
   ]
  },
  {
   "cell_type": "markdown",
   "metadata": {},
   "source": [
    "<a id=\"variable-params\">2.C. Variable number of parameters</a>\n",
    "\n",
    "Python allows a function to accept any number of arguments using two constructs:\n",
    "- variable number of positional arguments\n",
    "- variable number of keyword arguments\n",
    "\n",
    "<ins>A parameter prefixed with * </ins>, in a function definition, allows any number of positional arguments to be supplied during function call.\n",
    "\n",
    "Let's understand this with a function that calculates the arithmetic mean of all arguments supplied."
   ]
  },
  {
   "cell_type": "code",
   "execution_count": 62,
   "metadata": {},
   "outputs": [
    {
     "name": "stdout",
     "output_type": "stream",
     "text": [
      "avg. of (1,2,3,4,5): 3.0\n",
      "avg. of (1,2,3,4,5,6,7,8,9,10): 5.5\n"
     ]
    }
   ],
   "source": [
    "def average( *numbers ):\n",
    "    total = sum( numbers )\n",
    "    n = len(numbers)\n",
    "    return total / n\n",
    "\n",
    "avg_of_1to5 = average(1, 2, 3, 4, 5)\n",
    "print( f'avg. of (1,2,3,4,5): {avg_of_1to5}')\n",
    "\n",
    "avg_of_1to10 = average(1, 2, 3, 4, 5, 6, 7, 8, 9, 10)\n",
    "print( f'avg. of (1,2,3,4,5,6,7,8,9,10): {avg_of_1to10}')"
   ]
  },
  {
   "cell_type": "markdown",
   "metadata": {},
   "source": [
    "All the arguments supplied are collected into a ```tuple``` and passed to the parameter prefixed with * . Let's verify this with an example:"
   ]
  },
  {
   "cell_type": "code",
   "execution_count": 68,
   "metadata": {},
   "outputs": [
    {
     "name": "stdout",
     "output_type": "stream",
     "text": [
      "type is: <class 'tuple'>\n",
      "type is: <class 'tuple'>\n",
      "type is: <class 'tuple'>\n"
     ]
    }
   ],
   "source": [
    "# function just prints type of varargs param\n",
    "def test_function( *varparams ):\n",
    "    print( f'type is: {type(varparams)}')\n",
    "    \n",
    "# no arg.s: passes empty tuple to varargs parameter \n",
    "test_function()\n",
    "# passes tuple (1,2,3) to varargs parameter \n",
    "test_function(1,2,3) \n",
    "# passes tuple ('a','b','c') to varargs parameter \n",
    "test_function('a', 'b', 'c')"
   ]
  },
  {
   "cell_type": "markdown",
   "metadata": {},
   "source": [
    "Similarly, <ins>a parameter prefixed with \\*\\*</ins> allows any number of keyword arguments to be supplied during function call. Create a function to understand this in detail:"
   ]
  },
  {
   "cell_type": "code",
   "execution_count": 69,
   "metadata": {},
   "outputs": [
    {
     "name": "stdout",
     "output_type": "stream",
     "text": [
      "hottest day is: Monday\n"
     ]
    }
   ],
   "source": [
    "def hot_day( **day_and_temp ):\n",
    "    max_temp = -1\n",
    "    max_temp_day = None\n",
    "    for day in day_and_temp:\n",
    "        if day_and_temp.get(day) > max_temp:\n",
    "            max_temp = day_and_temp.get(day)\n",
    "            max_temp_day = day\n",
    "    \n",
    "    return max_temp_day\n",
    "\n",
    "# kwd args are collected into a dict:\n",
    "# {'Monday':93, 'Tuesday':64, 'Wednesday':91}, and this dict is \n",
    "# passed to day_and_temp parameter\n",
    "day = hot_day( Monday=93, Tuesday=64, Wednesday=91)\n",
    "print( f'hottest day is: {day}')"
   ]
  },
  {
   "cell_type": "markdown",
   "metadata": {},
   "source": [
    "All the keyword arguments are collected into a dictionary and it is assigned to parameter prefixed with \\*\\*. Let's verify this with an example:"
   ]
  },
  {
   "cell_type": "code",
   "execution_count": 65,
   "metadata": {},
   "outputs": [
    {
     "name": "stdout",
     "output_type": "stream",
     "text": [
      "parameter type is: <class 'dict'>\n"
     ]
    }
   ],
   "source": [
    "def test_function( **varkwdparams ):\n",
    "    print( f'parameter type is: {type(varkwdparams)}')\n",
    "    \n",
    "test_function( kwdarg1=1, kwdarg2=2, kwdarg3=3)"
   ]
  },
  {
   "cell_type": "markdown",
   "metadata": {},
   "source": [
    "<a id=\"param-order\">3. Parameter order</a>\n",
    "\n",
    "Now, we know how to define( and use):\n",
    "- non-default parameters\n",
    "- default-value parameters\n",
    "- parameters to accept varibale number of positional arguments\n",
    "- parameters to accept variable number of keyword arguments\n",
    "\n",
    "**Parameters in a function need to follow these rules**:\n",
    "1. at most one __\\*\\*__ parameter - must be the last in the parameter list - is allowed\n",
    "1. at most one __\\*__ parameter - must preced any __\\*\\*__ parameter - is allowed\n",
    "1. after __\\*__ parameter, non-default and default value parameters can be specified in any order\n",
    "1. otherwise, zero or more non-default parameters are followed by zero or more default-value parameters\n",
    "\n",
    "\n",
    "Let's look at some invalid parameter list specifications:\n",
    "\n",
    "1.\n",
    "```python\n",
    ">>> def test(**kwargs, a): pass\n",
    "  File \"<stdin>\", line 1\n",
    "    def test(**kwargs, a): pass\n",
    "                       ^\n",
    "SyntaxError: invalid syntax\n",
    ">>>\n",
    "```\n",
    "<ins>__\\*\\*__ parameter is not last in the parameters list</ins>"
   ]
  },
  {
   "cell_type": "markdown",
   "metadata": {},
   "source": [
    "2.\n",
    "```python\n",
    ">>> def test( **one, **two): pass\n",
    "  File \"<stdin>\", line 1\n",
    "    def test( **one, **two): pass\n",
    "                      ^\n",
    "SyntaxError: invalid syntax\n",
    "```\n",
    "<ins>at most one __\\*\\*__ parameter is allowed</ins>."
   ]
  },
  {
   "cell_type": "markdown",
   "metadata": {},
   "source": [
    "3.\n",
    "```python\n",
    ">>> def test( **kwargs, *args): pass\n",
    "  File \"<stdin>\", line 1\n",
    "    def test( **kwargs, *args): pass\n",
    "                        ^\n",
    "SyntaxError: invalid syntax\n",
    ">>>\n",
    "```\n",
    "<ins>__\\*__ parameter must precede __\\*\\*__ parameter</ins>"
   ]
  },
  {
   "cell_type": "markdown",
   "metadata": {},
   "source": [
    "4.\n",
    "```python\n",
    ">>> def test(*a, *b): pass\n",
    "  File \"<stdin>\", line 1\n",
    "    def test(*a, *b): pass\n",
    "                 ^\n",
    "SyntaxError: invalid syntax\n",
    ">>>\n",
    "```\n",
    "<ins>at most one __\\*__ parameter is allowed</ins>"
   ]
  },
  {
   "cell_type": "markdown",
   "metadata": {},
   "source": [
    "5.\n",
    "```python\n",
    ">>> def test(b=True, a): pass\n",
    "... \n",
    "  File \"<stdin>\", line 1\n",
    "SyntaxError: non-default argument follows default argument\n",
    ">>>\n",
    "```\n",
    "<ins>Before __\\*__ parameter(if any), zero or more non-default params must precede zero or more default-value parameters</ins>"
   ]
  },
  {
   "cell_type": "markdown",
   "metadata": {},
   "source": [
    "```python\n",
    ">>> def test(*a, b): \n",
    "...     print(a)\n",
    "...     print(b)\n",
    "... \n",
    ">>> test(1,2,3)\n",
    "Traceback (most recent call last):\n",
    "  File \"<stdin>\", line 1, in <module>\n",
    "TypeError: test() missing 1 required keyword-only argument: 'b'\n",
    "```"
   ]
  },
  {
   "cell_type": "markdown",
   "metadata": {},
   "source": []
  },
  {
   "cell_type": "markdown",
   "metadata": {},
   "source": [
    "Good cases\n",
    "1. \n",
    "```python\n",
    ">>> def test(a, *b):\n",
    "...     print(a)\n",
    "...     print(b)\n",
    "... \n",
    ">>> test(1,2,3)\n",
    "1\n",
    "(2, 3)\n",
    ">>> test(1)\n",
    "1\n",
    "()\n",
    ">>> test()\n",
    "Traceback (most recent call last):\n",
    "  File \"<stdin>\", line 1, in <module>\n",
    "TypeError: test() missing 1 required positional argument: 'a'\n",
    ">>> test( *(1, 2, 3) )\n",
    "1\n",
    "(2, 3)\n",
    ">>>\n",
    "```"
   ]
  },
  {
   "cell_type": "code",
   "execution_count": null,
   "metadata": {},
   "outputs": [],
   "source": []
  }
 ],
 "metadata": {
  "kernelspec": {
   "display_name": "Python 3",
   "language": "python",
   "name": "python3"
  },
  "language_info": {
   "codemirror_mode": {
    "name": "ipython",
    "version": 3
   },
   "file_extension": ".py",
   "mimetype": "text/x-python",
   "name": "python",
   "nbconvert_exporter": "python",
   "pygments_lexer": "ipython3",
   "version": "3.7.2"
  },
  "toc": {
   "base_numbering": 1,
   "nav_menu": {},
   "number_sections": true,
   "sideBar": true,
   "skip_h1_title": false,
   "title_cell": "Table of Contents",
   "title_sidebar": "Contents",
   "toc_cell": false,
   "toc_position": {},
   "toc_section_display": true,
   "toc_window_display": false
  }
 },
 "nbformat": 4,
 "nbformat_minor": 2
}
