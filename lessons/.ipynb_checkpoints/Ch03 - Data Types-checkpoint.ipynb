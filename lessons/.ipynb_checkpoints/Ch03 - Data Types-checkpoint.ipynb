{
 "cells": [
  {
   "cell_type": "markdown",
   "metadata": {},
   "source": [
    "# Data Types\n",
    "\n",
    "Frequently used and natively supported data types include:\n",
    "\n",
    "1. **Numbers**\n",
    "    1. **Intergers**\n",
    "        1. **int**\n",
    "        1. **bool**\n",
    "    1. **Real** \n",
    "    1. **Complex** \n",
    "    \n",
    "1. **Sequences**\n",
    "    1. **Immutable**\n",
    "        1. **Strings**\n",
    "        1. **Tuples**\n",
    "        1. **Bytes**\n",
    "    1. **Mutable**\n",
    "        1. **Lists**\n",
    "        1. **Byte Arrays**\n",
    "        \n",
    "1. **Sets**\n",
    "    1. **Mutable Sets**\n",
    "    1. **Immutable Sets (frozen sets)**\n",
    "    \n",
    "1. **Dictionaries**"
   ]
  },
  {
   "cell_type": "markdown",
   "metadata": {},
   "source": [
    "# Numbers\n",
    "\n",
    "## Integers\n",
    "\n",
    "### int\n",
    "\n",
    "- Can represent any natural number\n",
    "- **No support for unsigned numebers**, int numbers are signed by default\n",
    "- Can hold extremely large numbers\n",
    "\n",
    "\n",
    "Example 1: check data type & general operations:\n",
    "\n",
    "```sh\n",
    ">>> a = 123\n",
    ">>> type(a)\n",
    "<class 'int'>\n",
    ">>> a = a + 1\n",
    ">>> print(a)\n",
    "124\n",
    ">>>\n",
    "```\n",
    "\n",
    "Example 2: supports extremely large numbers, even if underlying hardware does not support\n",
    "```sh\n",
    ">>> # 50 digit number\n",
    "...\n",
    ">>> a = 1234567890123456789012345678901234567890123456789012345678901234567890123456789012345678901234567890\n",
    ">>> print(a)\n",
    "1234567890123456789012345678901234567890123456789012345678901234567890123456789012345678901234567890\n",
    ">>> a = a + 10\n",
    ">>> print( a )\n",
    "1234567890123456789012345678901234567890123456789012345678901234567890123456789012345678901234567900\n",
    ">>> # lets do something crazy - let square the number\n",
    "...\n",
    ">>> a = a ** 2\n",
    ">>> # Now a is a 199 digit number!\n",
    "...\n",
    ">>> print( a )\n",
    "1524157875323883675049535156256668194500838287337600975522511812231126352691000152415888766956267776253620890108215300259106851150739217227556774934003962814525224813565005334567748818777899710410000\n",
    ">>>\n",
    "```\n",
    "\n"
   ]
  },
  {
   "cell_type": "markdown",
   "metadata": {},
   "source": [
    "***\n",
    "### bool\n",
    "\n",
    "Represents boolean values **True** and **False**. Comparison and memebership check operations evaluate to boolean."
   ]
  },
  {
   "cell_type": "code",
   "execution_count": 3,
   "metadata": {},
   "outputs": [
    {
     "name": "stdout",
     "output_type": "stream",
     "text": [
      "<class 'bool'>\n",
      "<class 'bool'>\n"
     ]
    }
   ],
   "source": [
    "# chek type of bool variable\n",
    "print( type( True) )\n",
    "print( type( False) )"
   ]
  },
  {
   "cell_type": "code",
   "execution_count": 6,
   "metadata": {},
   "outputs": [
    {
     "name": "stdout",
     "output_type": "stream",
     "text": [
      "True\n",
      "False\n"
     ]
    }
   ],
   "source": [
    "# comparison operators evaluate to bool\n",
    "print( 3 > 2  )\n",
    "print( 3 <= 2 )"
   ]
  },
  {
   "cell_type": "code",
   "execution_count": 9,
   "metadata": {},
   "outputs": [
    {
     "name": "stdout",
     "output_type": "stream",
     "text": [
      "1\n",
      "0\n",
      "2\n",
      "0\n"
     ]
    }
   ],
   "source": [
    "# bools are int under the hood: True = 1, and False = 0\n",
    "# But to make your programs readable, always use True and False\n",
    "# never use 0 and 1\n",
    "print( int(True) )\n",
    "print( int(False) )\n",
    "\n",
    "print( True + True )\n",
    "print( False + False )"
   ]
  },
  {
   "cell_type": "markdown",
   "metadata": {},
   "source": [
    "***\n",
    "\n",
    "# Notes pending on\n",
    "- float\n",
    "- complex\n",
    "- strings\n",
    "***"
   ]
  },
  {
   "cell_type": "markdown",
   "metadata": {},
   "source": [
    "***\n",
    "## Splice Notation\n",
    "\n",
    "Useful notation to extract specific elements from an ordered set (list, tuple, string).\n",
    "\n",
    "Splice Notation format **start-index \\[: end-index \\[: step-size\\] \\]**\n",
    "\n",
    "- Indexes are always zero based, i.e. index of first element is 0\n",
    "- negative indexes represent elements from the end. -1 represent the last element in the ordered set.\n",
    "- start-index is inclusive, and end-index is exclusive\n",
    "- **step-size** has two components\n",
    "    - direction:\n",
    "        - positive step size indicates traversal from left to right\n",
    "        - negative step size indicates traversal from right to left\n",
    "    - jump:\n",
    "        - offset to add/subtract to the previously selected elements index\n",
    "        \n",
    "\n",
    "Some examples of splice notation\n",
    "\n",
    "- **a\\[2\\]** - retrieve element with index 2\n",
    "- **a\\[2:\\]** - retrieve all elements starting from index 2 to the end\n",
    "- **a\\[2:-2\\]** - substring from index 2 to the index -3\n"
   ]
  },
  {
   "cell_type": "code",
   "execution_count": 13,
   "metadata": {},
   "outputs": [
    {
     "name": "stdout",
     "output_type": "stream",
     "text": [
      "index 0: A\n",
      "index -1: E\n",
      "substring [0:-1]: ABCD\n",
      "substring last three characters: CDE\n",
      "end index < start index & direction LTR : \n",
      "end index < start index ^ direction RTL: CB\n",
      "alternate characters LTR: ACE\n",
      "alternate char.s RTL: ECA\n"
     ]
    }
   ],
   "source": [
    "s = 'ABCDE'\n",
    "# fetch element at a specific index\n",
    "print( f'index 0: {s[0]}' )\n",
    "print( f'index -1: {s[-1]}' )\n",
    "\n",
    "# fetch substring starting from an index\n",
    "print( f'substring [0:-1]: {s[0:-1]}')\n",
    "\n",
    "# interprets end index automatically\n",
    "print( f'substring last three characters: {s[-3:]}' )\n",
    "\n",
    "# since end index is to the right of start index, \n",
    "# and default direction is left to right returns an empty string\n",
    "print( f'end index < start index & direction LTR : {s[2:0]}')\n",
    "\n",
    "# end index < start index & direction RTL\n",
    "print( f'end index < start index ^ direction RTL: {s[2:0:-1]}' )\n",
    "\n",
    "# jumps bigger than one in LTR direction\n",
    "print( f'alternate characters LTR: {s[0::2]}' )\n",
    "\n",
    "# jumps bigger than one in RTL direction\n",
    "print( f'alternate char.s RTL: {s[-1::-2]}' )"
   ]
  },
  {
   "cell_type": "markdown",
   "metadata": {},
   "source": [
    "***\n",
    "# Lists\n",
    "\n",
    "Lists in python are very versatile. A List can contain:\n",
    "- any number of elements\n",
    "- elements can be of different data types\n",
    "- lists are mutable "
   ]
  },
  {
   "cell_type": "code",
   "execution_count": 24,
   "metadata": {},
   "outputs": [
    {
     "name": "stdout",
     "output_type": "stream",
     "text": [
      "<class 'list'>\n",
      "[1, 2, 3, 4, 5]\n"
     ]
    }
   ],
   "source": [
    "# create a list \n",
    "l = [1, 2, 3, 4, 5]\n",
    "print( type(l) )\n",
    "print( l )"
   ]
  },
  {
   "cell_type": "code",
   "execution_count": 25,
   "metadata": {},
   "outputs": [
    {
     "name": "stdout",
     "output_type": "stream",
     "text": [
      "<class 'list'>\n",
      "[1, True, 'hello', 12.3]\n"
     ]
    }
   ],
   "source": [
    "# a list can contain any kind of elements\n",
    "l = [1, True, 'hello', 12.3]\n",
    "print( type(l) )\n",
    "print( l )"
   ]
  },
  {
   "cell_type": "code",
   "execution_count": 18,
   "metadata": {},
   "outputs": [
    {
     "name": "stdout",
     "output_type": "stream",
     "text": [
      "[5, 4, 3, 2, 1]\n"
     ]
    }
   ],
   "source": [
    "# access list elements using splice notation\n",
    "l = [1, 2, 3, 4, 5]\n",
    "# reverse the elements of the list\n",
    "print( l[::-1] )"
   ]
  },
  {
   "cell_type": "code",
   "execution_count": 26,
   "metadata": {},
   "outputs": [
    {
     "name": "stdout",
     "output_type": "stream",
     "text": [
      "[1, 2, 3, 4]\n",
      "after appending 5: [1, 2, 3, 4, 5]\n",
      "[1, 2, 3]\n",
      "after extending with [4,5]: [1, 2, 3, 4, 5]\n"
     ]
    }
   ],
   "source": [
    "# get useful list methods using : dir( list )\n",
    "# append, clear, copy, count, extend, index, insert, \n",
    "# pop, remove, reverse, sort\n",
    "\n",
    "# append - one element at a time\n",
    "l = [1, 2, 3, 4 ]\n",
    "print( l )\n",
    "l.append(5)\n",
    "print( f'after appending 5: {l}' )\n",
    "\n",
    "# extend one list with another\n",
    "l = [1, 2, 3]\n",
    "print( l )\n",
    "l.extend( [4, 5] )\n",
    "print( f'after extending with [4,5]: {l}')"
   ]
  },
  {
   "cell_type": "code",
   "execution_count": 28,
   "metadata": {},
   "outputs": [
    {
     "name": "stdout",
     "output_type": "stream",
     "text": [
      "[1, 2, 3]\n",
      "[]\n"
     ]
    }
   ],
   "source": [
    "l = [1,2,3]\n",
    "print( l )\n",
    "l.clear()\n",
    "print(l)"
   ]
  },
  {
   "cell_type": "code",
   "execution_count": 29,
   "metadata": {},
   "outputs": [
    {
     "name": "stdout",
     "output_type": "stream",
     "text": [
      "1\n",
      "3\n",
      "0\n"
     ]
    }
   ],
   "source": [
    "l = [1,2,2,3,3,3]\n",
    "print( l.count(1))\n",
    "print( l.count(3))\n",
    "print( l.count( -100 ))"
   ]
  },
  {
   "cell_type": "code",
   "execution_count": 31,
   "metadata": {},
   "outputs": [
    {
     "name": "stdout",
     "output_type": "stream",
     "text": [
      "[3, 2, 1]\n",
      "None\n",
      "[3, 2, 1]\n"
     ]
    }
   ],
   "source": [
    "l = [1, 2, 3]\n",
    "print( l[::-1] )\n",
    "print( l.reverse() )\n",
    "print( l )"
   ]
  },
  {
   "cell_type": "code",
   "execution_count": 32,
   "metadata": {},
   "outputs": [
    {
     "data": {
      "text/plain": [
       "True"
      ]
     },
     "execution_count": 32,
     "metadata": {},
     "output_type": "execute_result"
    }
   ],
   "source": [
    "l = [1,2,3]\n",
    "m = [1,2,3]\n",
    "l.reverse()\n",
    "\n",
    "l == m[::-1]"
   ]
  },
  {
   "cell_type": "code",
   "execution_count": 39,
   "metadata": {},
   "outputs": [
    {
     "name": "stdout",
     "output_type": "stream",
     "text": [
      "1 exists: True\n",
      "9 exists: False\n",
      "9 does not exist: True\n",
      "size: 3\n",
      "empty list size: 0\n",
      "sum of the list: 6\n"
     ]
    }
   ],
   "source": [
    "# built in methods\n",
    "# in, not in, len, sum\n",
    "l = [1, 2, 3]\n",
    "\n",
    "print( f'1 exists: {1 in l}')\n",
    "print( f'9 exists: {9 in l}')\n",
    "\n",
    "print( f'9 does not exist: {9 not in l}')\n",
    "\n",
    "print( f'size: {len(l)}')\n",
    "print( f'empty list size: {len([])}')\n",
    "\n",
    "print( f'sum of the list: {sum(l)}')"
   ]
  },
  {
   "cell_type": "code",
   "execution_count": 40,
   "metadata": {},
   "outputs": [
    {
     "name": "stdout",
     "output_type": "stream",
     "text": [
      "[1, 2, 3]\n",
      "[1, 2, 9]\n"
     ]
    }
   ],
   "source": [
    "l = [1, 2, 3]\n",
    "print (l)\n",
    "l[-1] = 9\n",
    "print(l)"
   ]
  },
  {
   "cell_type": "code",
   "execution_count": 52,
   "metadata": {},
   "outputs": [
    {
     "name": "stdout",
     "output_type": "stream",
     "text": [
      "[1, 2, 3, 4, 5, 6, 7, 1, 2, 3, 4]\n",
      "11\n"
     ]
    }
   ],
   "source": [
    "l = [1, 2, 3, 4]\n",
    "#l[0:2] = [3,4,5]\n",
    "#l[0:-10] = [1,2, 3, 4, 5, 6, 7]\n",
    "l[-10:0] = [1,2, 3, 4, 5, 6, 7]\n",
    "print(l)\n",
    "print( len(l) )\n"
   ]
  },
  {
   "cell_type": "code",
   "execution_count": 45,
   "metadata": {},
   "outputs": [
    {
     "name": "stdout",
     "output_type": "stream",
     "text": [
      "3\n",
      "[1, 2]\n"
     ]
    },
    {
     "ename": "IndexError",
     "evalue": "list assignment index out of range",
     "output_type": "error",
     "traceback": [
      "\u001b[0;31m---------------------------------------------------------------------------\u001b[0m",
      "\u001b[0;31mIndexError\u001b[0m                                Traceback (most recent call last)",
      "\u001b[0;32m<ipython-input-45-87703661e54b>\u001b[0m in \u001b[0;36m<module>\u001b[0;34m\u001b[0m\n\u001b[1;32m      2\u001b[0m \u001b[0mprint\u001b[0m\u001b[0;34m(\u001b[0m \u001b[0ml\u001b[0m\u001b[0;34m.\u001b[0m\u001b[0mpop\u001b[0m\u001b[0;34m(\u001b[0m\u001b[0;34m)\u001b[0m \u001b[0;34m)\u001b[0m\u001b[0;34m\u001b[0m\u001b[0;34m\u001b[0m\u001b[0m\n\u001b[1;32m      3\u001b[0m \u001b[0mprint\u001b[0m\u001b[0;34m(\u001b[0m \u001b[0ml\u001b[0m \u001b[0;34m)\u001b[0m\u001b[0;34m\u001b[0m\u001b[0;34m\u001b[0m\u001b[0m\n\u001b[0;32m----> 4\u001b[0;31m \u001b[0ml\u001b[0m\u001b[0;34m[\u001b[0m\u001b[0;36m2\u001b[0m\u001b[0;34m]\u001b[0m \u001b[0;34m=\u001b[0m \u001b[0;36m3\u001b[0m\u001b[0;34m\u001b[0m\u001b[0;34m\u001b[0m\u001b[0m\n\u001b[0m\u001b[1;32m      5\u001b[0m \u001b[0mprint\u001b[0m\u001b[0;34m(\u001b[0m \u001b[0ml\u001b[0m \u001b[0;34m)\u001b[0m\u001b[0;34m\u001b[0m\u001b[0;34m\u001b[0m\u001b[0m\n",
      "\u001b[0;31mIndexError\u001b[0m: list assignment index out of range"
     ]
    }
   ],
   "source": [
    "l = [1,2,3]\n",
    "print( l.pop() )\n",
    "print( l )\n",
    "l[2] = 3\n",
    "print( l )"
   ]
  },
  {
   "cell_type": "code",
   "execution_count": 53,
   "metadata": {},
   "outputs": [
    {
     "name": "stdout",
     "output_type": "stream",
     "text": [
      "<class 'tuple'>\n",
      "(1, 2, 3)\n"
     ]
    }
   ],
   "source": [
    "t = (1,2, 3)\n",
    "print( type(t) )\n",
    "print( t)"
   ]
  },
  {
   "cell_type": "code",
   "execution_count": 54,
   "metadata": {},
   "outputs": [
    {
     "data": {
      "text/plain": [
       "(3, 2, 1)"
      ]
     },
     "execution_count": 54,
     "metadata": {},
     "output_type": "execute_result"
    }
   ],
   "source": [
    "t[::-1]"
   ]
  },
  {
   "cell_type": "code",
   "execution_count": 55,
   "metadata": {},
   "outputs": [
    {
     "ename": "TypeError",
     "evalue": "'tuple' object does not support item assignment",
     "output_type": "error",
     "traceback": [
      "\u001b[0;31m---------------------------------------------------------------------------\u001b[0m",
      "\u001b[0;31mTypeError\u001b[0m                                 Traceback (most recent call last)",
      "\u001b[0;32m<ipython-input-55-9a6f3bfc01f7>\u001b[0m in \u001b[0;36m<module>\u001b[0;34m\u001b[0m\n\u001b[0;32m----> 1\u001b[0;31m \u001b[0mt\u001b[0m\u001b[0;34m[\u001b[0m\u001b[0;36m0\u001b[0m\u001b[0;34m]\u001b[0m \u001b[0;34m=\u001b[0m \u001b[0;36m9\u001b[0m\u001b[0;34m\u001b[0m\u001b[0;34m\u001b[0m\u001b[0m\n\u001b[0m",
      "\u001b[0;31mTypeError\u001b[0m: 'tuple' object does not support item assignment"
     ]
    }
   ],
   "source": [
    "t[0] = 9"
   ]
  },
  {
   "cell_type": "code",
   "execution_count": 57,
   "metadata": {},
   "outputs": [
    {
     "name": "stdout",
     "output_type": "stream",
     "text": [
      "<class 'int'>\n",
      "<class 'str'>\n"
     ]
    }
   ],
   "source": [
    "print( type( (1) ) )\n",
    "print( type( ('abc') ) )"
   ]
  },
  {
   "cell_type": "code",
   "execution_count": 58,
   "metadata": {},
   "outputs": [
    {
     "name": "stdout",
     "output_type": "stream",
     "text": [
      "<class 'tuple'>\n"
     ]
    }
   ],
   "source": [
    "# single element tuples\n",
    "print( type( (1,) ))"
   ]
  },
  {
   "cell_type": "code",
   "execution_count": 59,
   "metadata": {},
   "outputs": [
    {
     "name": "stdout",
     "output_type": "stream",
     "text": [
      "<class 'set'>\n",
      "{1, 2, 3}\n"
     ]
    }
   ],
   "source": [
    "# sets\n",
    "s = {1, 2, 3}\n",
    "print( type(s) )\n",
    "print( s)"
   ]
  },
  {
   "cell_type": "code",
   "execution_count": 60,
   "metadata": {},
   "outputs": [
    {
     "name": "stdout",
     "output_type": "stream",
     "text": [
      "1 in s: True\n"
     ]
    }
   ],
   "source": [
    "print( f'1 in s: {1 in s}')"
   ]
  },
  {
   "cell_type": "code",
   "execution_count": 61,
   "metadata": {},
   "outputs": [
    {
     "name": "stdout",
     "output_type": "stream",
     "text": [
      "union: {1, 2, 3, 4, 5}\n"
     ]
    }
   ],
   "source": [
    "# union\n",
    "s1 = {1,2,3}\n",
    "s2 = {3,4,5}\n",
    "print( f'union: {s1.union(s2)}')"
   ]
  },
  {
   "cell_type": "code",
   "execution_count": 69,
   "metadata": {},
   "outputs": [
    {
     "name": "stdout",
     "output_type": "stream",
     "text": [
      "list in: True\n",
      "CPU times: user 683 µs, sys: 1.1 ms, total: 1.79 ms\n",
      "Wall time: 2.37 ms\n",
      "tuple in: True\n",
      "CPU times: user 66 µs, sys: 37 µs, total: 103 µs\n",
      "Wall time: 98.9 µs\n",
      "set in: True\n",
      "CPU times: user 35 µs, sys: 14 µs, total: 49 µs\n",
      "Wall time: 42.9 µs\n"
     ]
    }
   ],
   "source": [
    "# dictionaries\n",
    "l = list( range(0, 100000000) )\n",
    "t = tuple( range(0, 100000000) )\n",
    "s = set( range(0, 100000000) )\n",
    "%time print( f'list in: {5400 in l}')\n",
    "%time print( f'tuple in: {5400 in t}')\n",
    "%time print( f'set in: {5400 in s}')"
   ]
  },
  {
   "cell_type": "code",
   "execution_count": null,
   "metadata": {},
   "outputs": [],
   "source": []
  }
 ],
 "metadata": {
  "kernelspec": {
   "display_name": "Python 3",
   "language": "python",
   "name": "python3"
  },
  "language_info": {
   "codemirror_mode": {
    "name": "ipython",
    "version": 3
   },
   "file_extension": ".py",
   "mimetype": "text/x-python",
   "name": "python",
   "nbconvert_exporter": "python",
   "pygments_lexer": "ipython3",
   "version": "3.7.2"
  }
 },
 "nbformat": 4,
 "nbformat_minor": 2
}
