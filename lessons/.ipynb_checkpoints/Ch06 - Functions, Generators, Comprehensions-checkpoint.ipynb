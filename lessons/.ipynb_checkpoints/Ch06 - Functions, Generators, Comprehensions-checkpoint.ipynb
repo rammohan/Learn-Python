{
 "cells": [
  {
   "cell_type": "markdown",
   "metadata": {},
   "source": [
    "# Functions\n",
    "\n",
    "### Function definition\n",
    "\n",
    "Functions are defined with reserved word **def**. A function:\n",
    "- can take zero or more parameters\n",
    "- **always** returns a value, *a function can return a function as well!*\n",
    "- parameters can take default values\n",
    "- parameters come in two flavors\n",
    "    - **positional**\n",
    "    - **keyword**\n",
    "    - All positional arguments must be specified before keyword args\n",
    "- can be **nested**\n",
    "- can have a **doc string**\n",
    "\n",
    "function defintion template\n",
    "```python \n",
    "def function_name(param1, param2, ...):\n",
    "    statement-1\n",
    "    statement-2\n",
    "```"
   ]
  },
  {
   "cell_type": "code",
   "execution_count": 51,
   "metadata": {},
   "outputs": [
    {
     "name": "stdout",
     "output_type": "stream",
     "text": [
      "it works\n"
     ]
    }
   ],
   "source": [
    "# function with no parameters\n",
    "# paranthesis are mandatory if even if function takes no parameters\n",
    "def test_fn():\n",
    "    print('it works')\n",
    "    \n",
    "test_fn()"
   ]
  },
  {
   "cell_type": "code",
   "execution_count": 53,
   "metadata": {},
   "outputs": [
    {
     "name": "stdout",
     "output_type": "stream",
     "text": [
      "a: 1\n",
      "b: 2\n"
     ]
    }
   ],
   "source": [
    "# positional parameters - example 1\n",
    "def test(a, b):\n",
    "    print( f'a: {a}' )\n",
    "    print( f'b: {b}')\n",
    "    \n",
    "# positional assignments:\n",
    "# a is assigned 1, and\n",
    "# b is assigned 2\n",
    "test( 1, 2)"
   ]
  },
  {
   "cell_type": "code",
   "execution_count": 57,
   "metadata": {},
   "outputs": [
    {
     "name": "stdout",
     "output_type": "stream",
     "text": [
      "a: 1\n",
      "b: 2\n",
      "<class 'str'>\n"
     ]
    }
   ],
   "source": [
    "# function always returns a value\n",
    "# this function does not return a value ?\n",
    "def test(a, b):\n",
    "    return f'a: {a}\\nb: {b}'\n",
    "    \n",
    "print( test(1, 2) )  \n",
    "print( type(test(1, 2)) )"
   ]
  },
  {
   "cell_type": "code",
   "execution_count": 58,
   "metadata": {},
   "outputs": [
    {
     "name": "stdout",
     "output_type": "stream",
     "text": [
      "a: 1\n",
      "b: 2\n",
      "None\n"
     ]
    }
   ],
   "source": [
    "# function returns None by default\n",
    "#  i.e. if no return statement is found\n",
    "def test(a, b):\n",
    "    print(f'a: {a}\\nb: {b}')\n",
    "    \n",
    "print( test(1, 2) )  "
   ]
  },
  {
   "cell_type": "code",
   "execution_count": 62,
   "metadata": {},
   "outputs": [
    {
     "name": "stdout",
     "output_type": "stream",
     "text": [
      "a: 4\n",
      "b: 5\n"
     ]
    }
   ],
   "source": [
    "# default values \n",
    "# parameters with default value are called keyword params\n",
    "def test(a, b=20):\n",
    "    print( f'a: {a}' )\n",
    "    print( f'b: {b}')\n",
    "\n",
    "# a is assigned 1, and\n",
    "# since no value for b is supplied it assumes default value 20\n",
    "#test(1) # test(1, 20)\n",
    "\n",
    "# we can supply value for b as well\n",
    "test(4, 5) "
   ]
  },
  {
   "cell_type": "code",
   "execution_count": 68,
   "metadata": {},
   "outputs": [
    {
     "ename": "TypeError",
     "evalue": "test() missing 1 required positional argument: 'a'",
     "output_type": "error",
     "traceback": [
      "\u001b[0;31m---------------------------------------------------------------------------\u001b[0m",
      "\u001b[0;31mTypeError\u001b[0m                                 Traceback (most recent call last)",
      "\u001b[0;32m<ipython-input-68-1eac2fc29b37>\u001b[0m in \u001b[0;36m<module>\u001b[0;34m\u001b[0m\n\u001b[1;32m     11\u001b[0m \u001b[0;34m\u001b[0m\u001b[0m\n\u001b[1;32m     12\u001b[0m \u001b[0;31m# function calls that generate error\u001b[0m\u001b[0;34m\u001b[0m\u001b[0;34m\u001b[0m\u001b[0;34m\u001b[0m\u001b[0m\n\u001b[0;32m---> 13\u001b[0;31m \u001b[0mtest\u001b[0m\u001b[0;34m(\u001b[0m\u001b[0mb\u001b[0m\u001b[0;34m=\u001b[0m\u001b[0;34m'B'\u001b[0m\u001b[0;34m,\u001b[0m \u001b[0mB\u001b[0m\u001b[0;34m=\u001b[0m\u001b[0;34m'A'\u001b[0m\u001b[0;34m)\u001b[0m\u001b[0;34m\u001b[0m\u001b[0;34m\u001b[0m\u001b[0m\n\u001b[0m",
      "\u001b[0;31mTypeError\u001b[0m: test() missing 1 required positional argument: 'a'"
     ]
    }
   ],
   "source": [
    "# calling function by name\n",
    "def test(a, b, B):\n",
    "    print( f'a: {a}' )\n",
    "    print( f'b: {b}')\n",
    "    print( f'B: {B}')\n",
    "    \n",
    "# function calls that produce same result\n",
    "#test('A', 'B') # test('A', 'B')\n",
    "#test('A', b='B')  # test('A', 'B')\n",
    "#test(b='B', a='A') # test('A', 'B')\n",
    "\n",
    "# function calls that generate error\n",
    "test(b='B', B='A')"
   ]
  },
  {
   "cell_type": "markdown",
   "metadata": {},
   "source": [
    "*__All positional arguments - except ones with default values - need to be supplied__*"
   ]
  },
  {
   "cell_type": "code",
   "execution_count": 69,
   "metadata": {},
   "outputs": [
    {
     "ename": "SyntaxError",
     "evalue": "non-default argument follows default argument (<ipython-input-69-c68462c6de37>, line 4)",
     "output_type": "error",
     "traceback": [
      "\u001b[0;36m  File \u001b[0;32m\"<ipython-input-69-c68462c6de37>\"\u001b[0;36m, line \u001b[0;32m4\u001b[0m\n\u001b[0;31m    def test(a, b=\"B\", c):\u001b[0m\n\u001b[0m            ^\u001b[0m\n\u001b[0;31mSyntaxError\u001b[0m\u001b[0;31m:\u001b[0m non-default argument follows default argument\n"
     ]
    }
   ],
   "source": [
    "# All parameters after one with default value, \n",
    "# should also have default values\n",
    "# the following function does not compile\n",
    "def test(a, b=\"B\", c):\n",
    "    print( f'a: {a}')\n",
    "    print( f'b: {b}')\n",
    "    print( f'c: {c}')"
   ]
  },
  {
   "cell_type": "code",
   "execution_count": 73,
   "metadata": {},
   "outputs": [
    {
     "name": "stdout",
     "output_type": "stream",
     "text": [
      "a: A\n",
      "b: B\n"
     ]
    }
   ],
   "source": [
    "# supplying parameters as a list/tuple\n",
    "# values from a list/tuple prefixed with * are \n",
    "# assigned to positional parameters\n",
    "def test(a, b):\n",
    "    print( f'a: {a}' )\n",
    "    print( f'b: {b}')\n",
    "   \n",
    "my_params = ('A', 'B')\n",
    "test( *my_params )"
   ]
  },
  {
   "cell_type": "code",
   "execution_count": 75,
   "metadata": {},
   "outputs": [
    {
     "data": {
      "text/plain": [
       "15"
      ]
     },
     "execution_count": 75,
     "metadata": {},
     "output_type": "execute_result"
    }
   ],
   "source": [
    "def sum_all(*args):\n",
    "    return sum(args)\n",
    "\n",
    "l = [1,2,3,4,5]\n",
    "print( sum_all( *l ) )\n",
    "print( sum_all( 1, 2, 3, 4, 5, ) )"
   ]
  },
  {
   "cell_type": "code",
   "execution_count": 77,
   "metadata": {},
   "outputs": [
    {
     "name": "stdout",
     "output_type": "stream",
     "text": [
      "0\n",
      "30\n"
     ]
    }
   ],
   "source": [
    "def mult_and_sum(multiply_by, *args):\n",
    "    return sum(map( lambda x: x*multiply_by, args))\n",
    "\n",
    "print( mult_and_sum(0, 1,2,3,4,5) )\n",
    "print( mult_and_sum(2, *[1,2,3,4,5] ))"
   ]
  },
  {
   "cell_type": "code",
   "execution_count": 80,
   "metadata": {},
   "outputs": [
    {
     "name": "stdout",
     "output_type": "stream",
     "text": [
      "a: a\n",
      "b: BBB\n"
     ]
    }
   ],
   "source": [
    "# supplying parameters as a dict\n",
    "# values from a dict prefixed with ** are \n",
    "# assigned to keyword parameters\n",
    "def test(a, b='B'):\n",
    "    print( f'a: {a}' )\n",
    "    print( f'b: {b}')\n",
    "   \n",
    "my_params = {'b': 'BBB'}\n",
    "test( 'a', **my_params)"
   ]
  },
  {
   "cell_type": "code",
   "execution_count": 43,
   "metadata": {},
   "outputs": [
    {
     "name": "stdout",
     "output_type": "stream",
     "text": [
      "arg: 1\n",
      "arg: 2\n",
      "arg: 3\n",
      "arg: 4\n",
      "arg: A\n",
      "arg: B\n",
      "arg: C\n",
      "arg: D\n"
     ]
    }
   ],
   "source": [
    "# passing variable number of Positional parameters\n",
    "def test(*args):\n",
    "    for i in args:\n",
    "        print( f'arg: {i}')\n",
    "        \n",
    "\n",
    "test( 1, 2, 3, 4)\n",
    "test( *['A', 'B', 'C', 'D'])"
   ]
  },
  {
   "cell_type": "code",
   "execution_count": 85,
   "metadata": {},
   "outputs": [
    {
     "ename": "TypeError",
     "evalue": "test() takes 0 positional arguments but 4 were given",
     "output_type": "error",
     "traceback": [
      "\u001b[0;31m---------------------------------------------------------------------------\u001b[0m",
      "\u001b[0;31mTypeError\u001b[0m                                 Traceback (most recent call last)",
      "\u001b[0;32m<ipython-input-85-502276f8c0f1>\u001b[0m in \u001b[0;36m<module>\u001b[0;34m\u001b[0m\n\u001b[1;32m      7\u001b[0m \u001b[0;31m# test( blr='KA', mas='TN', bom='MH', delhi='DEL') # {'blr': 'KA', ...}\u001b[0m\u001b[0;34m\u001b[0m\u001b[0;34m\u001b[0m\u001b[0;34m\u001b[0m\u001b[0m\n\u001b[1;32m      8\u001b[0m \u001b[0;31m# test( **{'blr': 'ka', 'mas': 'tn', 'bom': 'mh'} )\u001b[0m\u001b[0;34m\u001b[0m\u001b[0;34m\u001b[0m\u001b[0;34m\u001b[0m\u001b[0m\n\u001b[0;32m----> 9\u001b[0;31m \u001b[0mtest\u001b[0m\u001b[0;34m(\u001b[0m \u001b[0;34m*\u001b[0m\u001b[0;34m[\u001b[0m\u001b[0;34m'A'\u001b[0m\u001b[0;34m,\u001b[0m \u001b[0;34m'B'\u001b[0m\u001b[0;34m,\u001b[0m \u001b[0;34m'C'\u001b[0m\u001b[0;34m,\u001b[0m \u001b[0;34m'D'\u001b[0m\u001b[0;34m]\u001b[0m\u001b[0;34m)\u001b[0m\u001b[0;34m\u001b[0m\u001b[0;34m\u001b[0m\u001b[0m\n\u001b[0m",
      "\u001b[0;31mTypeError\u001b[0m: test() takes 0 positional arguments but 4 were given"
     ]
    }
   ],
   "source": [
    "# passing variable number of Keyword parameters\n",
    "def test(**kwdargs):\n",
    "    for k in kwdargs:\n",
    "        print( f'arg: <key:{k}, val:{kwdargs[k]}>')\n",
    "        \n",
    "\n",
    "# test( blr='KA', mas='TN', bom='MH', delhi='DEL') # {'blr': 'KA', ...}\n",
    "# test( **{'blr': 'ka', 'mas': 'tn', 'bom': 'mh'} )\n",
    "# test( *['A', 'B', 'C', 'D'])"
   ]
  },
  {
   "cell_type": "code",
   "execution_count": 88,
   "metadata": {},
   "outputs": [
    {
     "name": "stdout",
     "output_type": "stream",
     "text": [
      "a: 1\n",
      "b: 2\n"
     ]
    }
   ],
   "source": [
    "# Nested functions\n",
    "def test(a, b):\n",
    "    # a neseted function has access to \n",
    "    # all the variables in containing function\n",
    "    def format_params():\n",
    "        return f'a: {a}\\nb: {b}'\n",
    "    \n",
    "    return format_params()\n",
    "    \n",
    "print( test(1, 2) )  "
   ]
  },
  {
   "cell_type": "code",
   "execution_count": 89,
   "metadata": {},
   "outputs": [
    {
     "name": "stdout",
     "output_type": "stream",
     "text": [
      "<class 'function'>\n",
      "10 incremented by 5: 15\n"
     ]
    }
   ],
   "source": [
    "# a function can return another function\n",
    "# powerful technique - foundation for functional programming paradigm\n",
    "\n",
    "def create_incrementer(increment_by):\n",
    "    \n",
    "    def increment(num, by=increment_by):\n",
    "        return num + by\n",
    "    \n",
    "    return increment\n",
    "\n",
    "incr_by_5 = create_incrementer(5)\n",
    "print( type(incr_by_5) )\n",
    "print( f'10 incremented by 5: {incr_by_5(10)}')\n",
    "\n",
    "#incr_by_20 = create_incrementer(20)\n",
    "#print( f'30 incremented by 20: {incr_by_20(30)}')\n",
    "\n"
   ]
  },
  {
   "cell_type": "code",
   "execution_count": 34,
   "metadata": {},
   "outputs": [
    {
     "name": "stdout",
     "output_type": "stream",
     "text": [
      " prints two parameters in separate lines.\n",
      "    \n"
     ]
    }
   ],
   "source": [
    "# function doc strings convery the purpose of the function\n",
    "def test(a, b):\n",
    "    ''' prints two parameters in separate lines.\n",
    "    '''\n",
    "    return f'a: {a}\\nb: {b}'\n",
    "    \n",
    "print( test.__doc__) "
   ]
  },
  {
   "cell_type": "markdown",
   "metadata": {},
   "source": [
    "# Comprehensions\n",
    "\n",
    "Helps in creating Lists, tuples, sets, and dictionaries in a concise way.\n",
    "\n",
    "General syntax:\n",
    "\n",
    "```python\n",
    "expr(var) <<one-or-more-for-loops>> <<optional-predicate>>\n",
    "```\n"
   ]
  },
  {
   "cell_type": "code",
   "execution_count": 99,
   "metadata": {},
   "outputs": [
    {
     "data": {
      "text/plain": [
       "{1: 9, 2: 8, 3: 7, 4: 6, 5: 5, 6: 4, 7: 3, 8: 2, 9: 1}"
      ]
     },
     "execution_count": 99,
     "metadata": {},
     "output_type": "execute_result"
    }
   ],
   "source": [
    "dict((i,j) for i in range(10) for j in range(10) if i+j==10)"
   ]
  },
  {
   "cell_type": "code",
   "execution_count": null,
   "metadata": {},
   "outputs": [],
   "source": []
  }
 ],
 "metadata": {
  "kernelspec": {
   "display_name": "Python 3",
   "language": "python",
   "name": "python3"
  },
  "language_info": {
   "codemirror_mode": {
    "name": "ipython",
    "version": 3
   },
   "file_extension": ".py",
   "mimetype": "text/x-python",
   "name": "python",
   "nbconvert_exporter": "python",
   "pygments_lexer": "ipython3",
   "version": "3.7.2"
  }
 },
 "nbformat": 4,
 "nbformat_minor": 2
}
