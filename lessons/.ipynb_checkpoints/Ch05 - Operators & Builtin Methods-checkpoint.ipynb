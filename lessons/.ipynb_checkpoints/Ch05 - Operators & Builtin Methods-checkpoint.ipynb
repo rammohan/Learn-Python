{
 "cells": [
  {
   "cell_type": "markdown",
   "metadata": {},
   "source": [
    "# Operators\n",
    "| **Method** | **Operation** | **int** | **float** | **bool** | **str** | **list** | **tuple** | **set** | **dict** |\n",
    "| --- | --- | --- | --- | --- | --- | --- | --- | --- | --- |\n",
    "| \\_\\_add\\_\\_ | **+** | Y | Y | Y | Y | Y | Y | . | . | \n",
    "| \\_\\_sub\\_\\_ | **-** | Y | Y | Y | . | . | . | Y | . |\n",
    "| \\_\\_mul\\_\\_ | **\\*** | Y | Y | Y | Y | Y | Y | . | . |\n",
    "| \\_\\_truediv\\_\\_ | **/** | Y | Y | Y | . | . | . | . | . |\n",
    "| \\_\\_floordiv\\_\\_ | **//** | Y | Y | Y | . | . | . | . | . |\n",
    "| \\_\\_mod\\_\\_ | **%** | Y | Y | Y | Y | . | . | . | . |\n",
    "| \\_\\_pow\\_\\_ | **\\*\\*** | Y | Y | Y | . | . | . | . | . |\n",
    "| \\_\\_eq\\_\\_ | **==** | Y | Y | Y | Y | Y | Y | Y | Y |\n",
    "| \\_\\_ne\\_\\_ | **!=** | Y | Y | Y | Y | Y | Y | Y | Y |\n",
    "| \\_\\_gt\\_\\_ | **>** | Y | Y | Y | Y | Y | Y | Y | Y |\n",
    "| \\_\\_ge\\_\\_ | **>=** | Y | Y | Y | Y | Y | Y | Y | Y |\n",
    "| \\_\\_lt\\_\\_ | **<** | Y | Y | Y | Y | Y | Y | Y | Y |\n",
    "| \\_\\_le\\_\\_ | **<=** | Y | Y | Y | Y | Y | Y | Y | Y |\n",
    "| \\_\\_and\\_\\_ | **&** | Y | . | Y | . | . | . | Y | . |\n",
    "| \\_\\_or\\_\\_ | **\\|** | Y | . | Y | . | . | . | Y | . |\n",
    "| \\_\\_xor\\_\\_ | **^** | Y | . | Y | . | . | . | Y | . |\n",
    "| \\_\\_invert\\_\\_ | **~** | Y | . | Y | . | . | . | . | . |\n",
    "| \\_\\_delattr\\_\\_ | **del** | Y | Y | Y | Y | Y | Y | Y | Y |\n",
    "| \\_\\_lshift\\_\\_ | **<<** | Y | . | Y | . | . | . | . | . |\n",
    "| \\_\\_rshift\\_\\_ | **>>** | Y | . | Y | . | . | . | . | . |\n",
    "\n"
   ]
  },
  {
   "cell_type": "code",
   "execution_count": 105,
   "metadata": {},
   "outputs": [
    {
     "data": {
      "text/plain": [
       "'Return self<<value.'"
      ]
     },
     "execution_count": 105,
     "metadata": {},
     "output_type": "execute_result"
    }
   ],
   "source": [
    "int.__lshift__.__doc__"
   ]
  },
  {
   "cell_type": "code",
   "execution_count": 103,
   "metadata": {},
   "outputs": [
    {
     "name": "stdout",
     "output_type": "stream",
     "text": [
      "| __lshift__ | . | Y | . | Y | . | . | . | . | . |\n"
     ]
    }
   ],
   "source": [
    "# script to generate operators table\n",
    "# int, float,  bool, string, list, tuple, set, dict\n",
    "# l = (int, float, bool, str, list, tuple, set, dict)\n",
    "# method = '__lshift__'\n",
    "# m = map( lambda x: 'Y' if method in dir(x) else '.', l )\n",
    "# print( f'| {method} | . | { \" | \".join(m)} |' )"
   ]
  },
  {
   "cell_type": "code",
   "execution_count": 102,
   "metadata": {},
   "outputs": [
    {
     "data": {
      "text/plain": [
       "['__abs__',\n",
       " '__add__',\n",
       " '__and__',\n",
       " '__bool__',\n",
       " '__ceil__',\n",
       " '__class__',\n",
       " '__delattr__',\n",
       " '__dir__',\n",
       " '__divmod__',\n",
       " '__doc__',\n",
       " '__eq__',\n",
       " '__float__',\n",
       " '__floor__',\n",
       " '__floordiv__',\n",
       " '__format__',\n",
       " '__ge__',\n",
       " '__getattribute__',\n",
       " '__getnewargs__',\n",
       " '__gt__',\n",
       " '__hash__',\n",
       " '__index__',\n",
       " '__init__',\n",
       " '__init_subclass__',\n",
       " '__int__',\n",
       " '__invert__',\n",
       " '__le__',\n",
       " '__lshift__',\n",
       " '__lt__',\n",
       " '__mod__',\n",
       " '__mul__',\n",
       " '__ne__',\n",
       " '__neg__',\n",
       " '__new__',\n",
       " '__or__',\n",
       " '__pos__',\n",
       " '__pow__',\n",
       " '__radd__',\n",
       " '__rand__',\n",
       " '__rdivmod__',\n",
       " '__reduce__',\n",
       " '__reduce_ex__',\n",
       " '__repr__',\n",
       " '__rfloordiv__',\n",
       " '__rlshift__',\n",
       " '__rmod__',\n",
       " '__rmul__',\n",
       " '__ror__',\n",
       " '__round__',\n",
       " '__rpow__',\n",
       " '__rrshift__',\n",
       " '__rshift__',\n",
       " '__rsub__',\n",
       " '__rtruediv__',\n",
       " '__rxor__',\n",
       " '__setattr__',\n",
       " '__sizeof__',\n",
       " '__str__',\n",
       " '__sub__',\n",
       " '__subclasshook__',\n",
       " '__truediv__',\n",
       " '__trunc__',\n",
       " '__xor__',\n",
       " 'bit_length',\n",
       " 'conjugate',\n",
       " 'denominator',\n",
       " 'from_bytes',\n",
       " 'imag',\n",
       " 'numerator',\n",
       " 'real',\n",
       " 'to_bytes']"
      ]
     },
     "execution_count": 102,
     "metadata": {},
     "output_type": "execute_result"
    }
   ],
   "source": [
    "dir(int)"
   ]
  },
  {
   "cell_type": "code",
   "execution_count": 79,
   "metadata": {},
   "outputs": [
    {
     "name": "stdout",
     "output_type": "stream",
     "text": [
      "dict_keys(['ArithmeticError', 'AssertionError', 'AttributeError', 'BaseException', 'BlockingIOError', 'BrokenPipeError', 'BufferError', 'BytesWarning', 'ChildProcessError', 'ConnectionAbortedError', 'ConnectionError', 'ConnectionRefusedError', 'ConnectionResetError', 'DeprecationWarning', 'EOFError', 'Ellipsis', 'EnvironmentError', 'Exception', 'False', 'FileExistsError', 'FileNotFoundError', 'FloatingPointError', 'FutureWarning', 'GeneratorExit', 'IOError', 'ImportError', 'ImportWarning', 'IndentationError', 'IndexError', 'InterruptedError', 'IsADirectoryError', 'KeyError', 'KeyboardInterrupt', 'LookupError', 'MemoryError', 'ModuleNotFoundError', 'NameError', 'None', 'NotADirectoryError', 'NotImplemented', 'NotImplementedError', 'OSError', 'OverflowError', 'PendingDeprecationWarning', 'PermissionError', 'ProcessLookupError', 'RecursionError', 'ReferenceError', 'ResourceWarning', 'RuntimeError', 'RuntimeWarning', 'StopAsyncIteration', 'StopIteration', 'SyntaxError', 'SyntaxWarning', 'SystemError', 'SystemExit', 'TabError', 'TimeoutError', 'True', 'TypeError', 'UnboundLocalError', 'UnicodeDecodeError', 'UnicodeEncodeError', 'UnicodeError', 'UnicodeTranslateError', 'UnicodeWarning', 'UserWarning', 'ValueError', 'Warning', 'ZeroDivisionError', '__IPYTHON__', '__build_class__', '__debug__', '__doc__', '__import__', '__loader__', '__name__', '__package__', '__spec__', 'abs', 'all', 'any', 'ascii', 'bin', 'bool', 'breakpoint', 'bytearray', 'bytes', 'callable', 'chr', 'classmethod', 'compile', 'complex', 'copyright', 'credits', 'delattr', 'dict', 'dir', 'display', 'divmod', 'enumerate', 'eval', 'exec', 'filter', 'float', 'format', 'frozenset', 'get_ipython', 'getattr', 'globals', 'hasattr', 'hash', 'help', 'hex', 'id', 'input', 'int', 'isinstance', 'issubclass', 'iter', 'len', 'license', 'list', 'locals', 'map', 'max', 'memoryview', 'min', 'next', 'object', 'oct', 'open', 'ord', 'pow', 'print', 'property', 'range', 'repr', 'reversed', 'round', 'set', 'setattr', 'slice', 'sorted', 'staticmethod', 'str', 'sum', 'super', 'tuple', 'type', 'vars', 'zip'])\n"
     ]
    }
   ],
   "source": [
    "# get documentation on builtin objects.\n",
    "import builtins\n",
    "a = {name: getattr(getattr(builtins, name), '__doc__') for name in dir(builtins)}\n",
    "print(a.keys())"
   ]
  },
  {
   "cell_type": "code",
   "execution_count": null,
   "metadata": {},
   "outputs": [],
   "source": []
  }
 ],
 "metadata": {
  "kernelspec": {
   "display_name": "Python 3",
   "language": "python",
   "name": "python3"
  },
  "language_info": {
   "codemirror_mode": {
    "name": "ipython",
    "version": 3
   },
   "file_extension": ".py",
   "mimetype": "text/x-python",
   "name": "python",
   "nbconvert_exporter": "python",
   "pygments_lexer": "ipython3",
   "version": "3.7.2"
  }
 },
 "nbformat": 4,
 "nbformat_minor": 2
}
