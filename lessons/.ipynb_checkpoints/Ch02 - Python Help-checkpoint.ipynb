{
 "cells": [
  {
   "cell_type": "markdown",
   "metadata": {},
   "source": [
    "# Interactive Help\n",
    "\n",
    "Python has extensive help system. Open Python interpreter and start exploring.\n",
    "```sh\n",
    "$ python\n",
    "Python 3.7.2 (v3.7.2:9a3ffc0492, Dec 24 2018, 02:44:43)\n",
    ">>>\n",
    "```"
   ]
  },
  {
   "cell_type": "markdown",
   "metadata": {},
   "source": [
    "## help() \n",
    "\n",
    "\n",
    "Explore:\n",
    "\n",
    "- **symbols** (operations)\n",
    "    - \"\"\", &=, // etc.,\n",
    "    \n",
    "- **keywords**\n",
    "    - **if**, **while**, **import** etc\n",
    "    \n",
    "- **Topics** \n",
    "    - INTEGER, TUPLES etc.,\n",
    "    \n",
    "- **Modules** \n"
   ]
  },
  {
   "cell_type": "code",
   "execution_count": null,
   "metadata": {},
   "outputs": [],
   "source": [
    "help()"
   ]
  },
  {
   "cell_type": "markdown",
   "metadata": {},
   "source": [
    "## help( object )\n",
    "\n",
    "To access help documentation on a particular object, in the Python interpreter terminal type:\n",
    "```sh\n",
    ">>> x = 123\n",
    ">>> # help on int  - all three of the following are same\n",
    "...\n",
    ">>> help( x ) \n",
    ">>> help( int ) \n",
    ">>> help( 123 )\n",
    "```"
   ]
  },
  {
   "cell_type": "markdown",
   "metadata": {},
   "source": [
    "***\n",
    "# Access object properties\n",
    "\n",
    "Just like help( obj ), **dir( object )** also list all properties of an object, however it just returns list of object property names.\n",
    "\n",
    "```sh\n",
    ">>> help( list )\n",
    ">>> dir( list )\n",
    "['__abs__', '__add__', '__and__', '__bool__', '__ceil__', '__class__', '__delattr__', '__dir__', '__divmod__', '__doc__', '__eq__', '__float__', '__floor__', '__floordiv__', '__format__', '__ge__', '__getattribute__', '__getnewargs__', '__gt__', '__hash__', '__index__', '__init__', '__init_subclass__', '__int__', '__invert__', '__le__', '__lshift__', '__lt__', '__mod__', '__mul__', '__ne__', '__neg__', '__new__', '__or__', '__pos__', '__pow__', '__radd__', '__rand__', '__rdivmod__', '__reduce__', '__reduce_ex__', '__repr__', '__rfloordiv__', '__rlshift__', '__rmod__', '__rmul__', '__ror__', '__round__', '__rpow__', '__rrshift__', '__rshift__', '__rsub__', '__rtruediv__', '__rxor__', '__setattr__', '__sizeof__', '__str__', '__sub__', '__subclasshook__', '__truediv__', '__trunc__', '__xor__', 'bit_length', 'conjugate', 'denominator', 'from_bytes', 'imag', 'numerator', 'real', 'to_bytes']\n",
    ">>>\n",
    "```"
   ]
  },
  {
   "cell_type": "markdown",
   "metadata": {},
   "source": [
    "***\n",
    "# Access doc string of an object\n",
    "\n",
    "Every object has a doc string property (**\\_\\_doc\\_\\_**), access this property to get documentation.\n",
    "\n",
    "\n",
    "```sh\n",
    ">>> dir( list )\n",
    "['__add__', '__class__', '__contains__', '__delattr__', '__delitem__', '__dir__', '__doc__', '__eq__', '__format__', '__ge__', '__getattribute__', '__getitem__', '__gt__', '__hash__', '__iadd__', '__imul__', '__init__', '__init_subclass__', '__iter__', '__le__', '__len__', '__lt__', '__mul__', '__ne__', '__new__', '__reduce__', '__reduce_ex__', '__repr__', '__reversed__', '__rmul__', '__setattr__', '__setitem__', '__sizeof__', '__str__', '__subclasshook__', 'append', 'clear', 'copy', 'count', 'extend', 'index', 'insert', 'pop', 'remove', 'reverse', 'sort']\n",
    ">>> list.count.__doc__\n",
    "'Return number of occurrences of value.'\n",
    ">>>\n",
    ">>> list.sort.__doc__\n",
    "'Stable sort *IN PLACE*.'\n",
    "```"
   ]
  },
  {
   "cell_type": "code",
   "execution_count": null,
   "metadata": {},
   "outputs": [],
   "source": []
  }
 ],
 "metadata": {
  "kernelspec": {
   "display_name": "Python 3",
   "language": "python",
   "name": "python3"
  },
  "language_info": {
   "codemirror_mode": {
    "name": "ipython",
    "version": 3
   },
   "file_extension": ".py",
   "mimetype": "text/x-python",
   "name": "python",
   "nbconvert_exporter": "python",
   "pygments_lexer": "ipython3",
   "version": "3.7.2"
  }
 },
 "nbformat": 4,
 "nbformat_minor": 2
}
