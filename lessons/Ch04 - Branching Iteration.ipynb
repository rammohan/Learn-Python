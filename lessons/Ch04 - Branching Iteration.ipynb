{
 "cells": [
  {
   "cell_type": "code",
   "execution_count": 6,
   "metadata": {},
   "outputs": [
    {
     "name": "stdout",
     "output_type": "stream",
     "text": [
      "on time\n"
     ]
    }
   ],
   "source": [
    "raining = True\n",
    "peak_hour = False\n",
    "\n",
    "if raining and peak_hour:\n",
    "    print('late to office')\n",
    "elif raining and not peak_hour:\n",
    "    print('on time')\n",
    "else:\n",
    "    print('In traffic')"
   ]
  },
  {
   "cell_type": "code",
   "execution_count": 21,
   "metadata": {},
   "outputs": [
    {
     "ename": "SyntaxError",
     "evalue": "invalid syntax (<ipython-input-21-135470faf9cf>, line 8)",
     "output_type": "error",
     "traceback": [
      "\u001b[0;36m  File \u001b[0;32m\"<ipython-input-21-135470faf9cf>\"\u001b[0;36m, line \u001b[0;32m8\u001b[0m\n\u001b[0;31m    print('its false') if var: print('its true')\u001b[0m\n\u001b[0m                             ^\u001b[0m\n\u001b[0;31mSyntaxError\u001b[0m\u001b[0;31m:\u001b[0m invalid syntax\n"
     ]
    }
   ],
   "source": [
    "var = False\n",
    "    \n",
    "if var: \n",
    "    print('its true')\n",
    "else: \n",
    "    print('its false')\n",
    "    \n",
    "# explore why its failing\n",
    "print('its false') if var print('its true')"
   ]
  },
  {
   "cell_type": "code",
   "execution_count": 26,
   "metadata": {},
   "outputs": [
    {
     "name": "stdout",
     "output_type": "stream",
     "text": [
      "list empty\n"
     ]
    }
   ],
   "source": [
    "l = []\n",
    "if l is not None:\n",
    "    for i in l:\n",
    "        print(l)\n",
    "        \n",
    "for i in l:\n",
    "    print(l)\n",
    "else: \n",
    "    print('list empty')"
   ]
  },
  {
   "cell_type": "code",
   "execution_count": null,
   "metadata": {},
   "outputs": [],
   "source": [
    "break, continue"
   ]
  },
  {
   "cell_type": "code",
   "execution_count": null,
   "metadata": {},
   "outputs": [],
   "source": [
    "break - comes out of inner most loop\n",
    "\n",
    "while cond1:\n",
    "    ....\n",
    "    ....\n",
    "    while cond2:\n",
    "        ...\n",
    "        ...\n",
    "        break\n",
    "    ....\n",
    "    \n",
    "for i <- [1,2,....]:\n",
    "    if i % 2 != 0:\n",
    "        continue\n",
    "    else:"
   ]
  },
  {
   "cell_type": "code",
   "execution_count": null,
   "metadata": {},
   "outputs": [],
   "source": [
    "for i in range(10):\n",
    "    if i % 2 != 0:\n",
    "        continue\n",
    "    \n",
    "    print( f'event number {i}')\n",
    "    "
   ]
  },
  {
   "cell_type": "code",
   "execution_count": null,
   "metadata": {},
   "outputs": [],
   "source": []
  }
 ],
 "metadata": {
  "kernelspec": {
   "display_name": "Python 3",
   "language": "python",
   "name": "python3"
  },
  "language_info": {
   "codemirror_mode": {
    "name": "ipython",
    "version": 3
   },
   "file_extension": ".py",
   "mimetype": "text/x-python",
   "name": "python",
   "nbconvert_exporter": "python",
   "pygments_lexer": "ipython3",
   "version": "3.7.2"
  }
 },
 "nbformat": 4,
 "nbformat_minor": 2
}
