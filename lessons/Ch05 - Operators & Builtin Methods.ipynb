{
 "cells": [
  {
   "cell_type": "markdown",
   "metadata": {},
   "source": [
    "# Operators\n",
    "| **Method** | **Operation** | **int** | **float** | **bool** | **str** | **list** | **tuple** | **set** | **dict** |\n",
    "| --- | --- | --- | --- | --- | --- | --- | --- | --- | --- |\n",
    "| \\_\\_add\\_\\_ | **+** | Y | Y | Y | Y | Y | Y | . | . | \n",
    "| \\_\\_sub\\_\\_ | **-** | Y | Y | Y | . | . | . | Y | . |\n",
    "| \\_\\_mul\\_\\_ | **\\*** | Y | Y | Y | Y | Y | Y | . | . |\n",
    "| \\_\\_truediv\\_\\_ | **/** | Y | Y | Y | . | . | . | . | . |\n",
    "| \\_\\_floordiv\\_\\_ | **//** | Y | Y | Y | . | . | . | . | . |\n",
    "| \\_\\_mod\\_\\_ | **%** | Y | Y | Y | Y | . | . | . | . |\n",
    "| \\_\\_pow\\_\\_ | **\\*\\*** | Y | Y | Y | . | . | . | . | . |\n",
    "| \\_\\_eq\\_\\_ | **==** | Y | Y | Y | Y | Y | Y | Y | Y |\n",
    "| \\_\\_ne\\_\\_ | **!=** | Y | Y | Y | Y | Y | Y | Y | Y |\n",
    "| \\_\\_gt\\_\\_ | **>** | Y | Y | Y | Y | Y | Y | Y | Y |\n",
    "| \\_\\_ge\\_\\_ | **>=** | Y | Y | Y | Y | Y | Y | Y | Y |\n",
    "| \\_\\_lt\\_\\_ | **<** | Y | Y | Y | Y | Y | Y | Y | Y |\n",
    "| \\_\\_le\\_\\_ | **<=** | Y | Y | Y | Y | Y | Y | Y | Y |\n",
    "| \\_\\_and\\_\\_ | **&** | Y | . | Y | . | . | . | Y | . |\n",
    "| \\_\\_or\\_\\_ | **\\|** | Y | . | Y | . | . | . | Y | . |\n",
    "| \\_\\_xor\\_\\_ | **^** | Y | . | Y | . | . | . | Y | . |\n",
    "| \\_\\_invert\\_\\_ | **~** | Y | . | Y | . | . | . | . | . |\n",
    "| \\_\\_delattr\\_\\_ | **del** | Y | Y | Y | Y | Y | Y | Y | Y |\n",
    "| \\_\\_lshift\\_\\_ | **<<** | Y | . | Y | . | . | . | . | . |\n",
    "| \\_\\_rshift\\_\\_ | **>>** | Y | . | Y | . | . | . | . | . |\n",
    "\n"
   ]
  },
  {
   "cell_type": "code",
   "execution_count": null,
   "metadata": {},
   "outputs": [],
   "source": [
    "# script to generate operators table\n",
    "# int, float,  bool, string, list, tuple, set, dict\n",
    "# l = (int, float, bool, str, list, tuple, set, dict)\n",
    "# method = '__lshift__'\n",
    "# m = map( lambda x: 'Y' if method in dir(x) else '.', l )\n",
    "# print( f'| {method} | . | { \" | \".join(m)} |' )"
   ]
  },
  {
   "cell_type": "markdown",
   "metadata": {},
   "source": [
    "# Important Builtin objects\n",
    "\n",
    "| **function** | **usage** |\n",
    "| --- | --- |\n",
    "| **abs** | finds absolute value of a number |\n",
    "| **all** | checks if all elements in a seq. evaluate to True |\n",
    "| **any** | checks if atleast one element in a seq. evaluates to True |\n",
    "| ascii | returns ascii representation of a string |\n",
    "| bin | returns binary representation of an int |\n",
    "| **bool** | evaluates a value in boolean context |\n",
    "| breakpoint | - |\n",
    "| bytearray | - |\n",
    "| bytes | - |\n",
    "| **callable** | check if an object is callable - all datatypes, function, and classes are callable |\n",
    "| **chr** | returns unicode character at a position |\n",
    "| **classmethod** | converts a method into a class method |\n",
    "| compile | - |\n",
    "| complex | - |\n",
    "| copyright | - |\n",
    "| credits | - |\n",
    "| **delattr** | Deletes the named attribute from the given object |\n",
    "| **dict** | create a dict |\n",
    "| **dir** | list all attributes(properties) of an object |\n",
    "| display | - |\n",
    "| divmod | - |\n",
    "| **enumerate** | an iterator returning element of a list/tuple/set/dict along with their index |\n",
    "| eval | - |\n",
    "| exec | - |\n",
    "| **filter** | filter elements of a seq based on some criteria |\n",
    "| **float** | Convert a string or number to a floating point number, if possible. |\n",
    "| format | - |\n",
    "| **frozenset** | creates an immutable set |\n",
    "| get_ipython | - |\n",
    "| **getattr** | return attributes of an object |\n",
    "| globals | - |\n",
    "| **hasattr** | checks if an object has specific named attribute |\n",
    "| **hash** | calculates hash value |\n",
    "| **help** | help documentation |\n",
    "| **hex** | creates hexa decimal number |\n",
    "| **id** | memory address of an object |\n",
    "| **input** | takes input from console |\n",
    "| **int** | converts a number or string into into, if possible. |\n",
    "| **isinstance** | checks if a variable is an instance of a class, function? |\n",
    "| **issubclass** | - |\n",
    "| **iter** | - |\n",
    "| **len** | length of seq. |\n",
    "| license | - |\n",
    "| **list** | creates a list |\n",
    "| locals | - |\n",
    "| **map** | transform one sequence into another |\n",
    "| **max** | finds max element from a sequence |\n",
    "| memoryview | - |\n",
    "| **min** | finds min element from a sequence |\n",
    "| **next** | - |\n",
    "| **object** | - |\n",
    "| **oct** | create an octal number |\n",
    "| **open** | to open files |\n",
    "| ord | - |\n",
    "| **pow** | power of a number |\n",
    "| print | - |\n",
    "| property | - |\n",
    "| **range** | creates numbers in a range |\n",
    "| repr | - |\n",
    "| **reversed** | returns reversed iterator of a seq. |\n",
    "| **round** | round off a number |\n",
    "| **set** | create sets |\n",
    "| **setattr** | set attributes for an object |\n",
    "| **slice** | splice/slice notation |\n",
    "| **sorted** | sorts a seq. |\n",
    "| **staticmethod** | - |\n",
    "| **str** | creates a str |\n",
    "| **sum** | sum of elements in a seq. |\n",
    "| super | - |\n",
    "| **tuple** | creates a tuple |\n",
    "| **type** | gets type of a variable |\n",
    "| vars | - |\n",
    "| **zip** | zips one or more sets |\n"
   ]
  },
  {
   "cell_type": "code",
   "execution_count": 127,
   "metadata": {},
   "outputs": [],
   "source": [
    "# get documentation on builtin objects.\n",
    "# import builtins\n",
    "# a = {name: getattr(getattr(builtins, name), '__doc__') for name in dir(builtins) if name[0].islower()}\n",
    "# print('\\n'.join(map(lambda x: f'| {x[0]} | . |', a.items())))"
   ]
  },
  {
   "cell_type": "markdown",
   "metadata": {},
   "source": [
    "***\n",
    "# Lambda Functions\n",
    "\n",
    "lambda function are useful for creating anonymous functions.\n",
    "\n"
   ]
  },
  {
   "cell_type": "code",
   "execution_count": 201,
   "metadata": {},
   "outputs": [
    {
     "name": "stdout",
     "output_type": "stream",
     "text": [
      "(1,)\n",
      "(2,)\n",
      "(3,)\n"
     ]
    }
   ],
   "source": [
    "# Com"
   ]
  },
  {
   "cell_type": "code",
   "execution_count": 204,
   "metadata": {},
   "outputs": [
    {
     "name": "stdout",
     "output_type": "stream",
     "text": [
      "\n",
      "Welcome to Python 3.7's help utility!\n",
      "\n",
      "If this is your first time using Python, you should definitely check out\n",
      "the tutorial on the Internet at https://docs.python.org/3.7/tutorial/.\n",
      "\n",
      "Enter the name of any module, keyword, or topic to get help on writing\n",
      "Python programs and using Python modules.  To quit this help utility and\n",
      "return to the interpreter, just type \"quit\".\n",
      "\n",
      "To get a list of available modules, keywords, symbols, or topics, type\n",
      "\"modules\", \"keywords\", \"symbols\", or \"topics\".  Each module also comes\n",
      "with a one-line summary of what it does; to list the modules whose name\n",
      "or summary contain a given string such as \"spam\", type \"modules spam\".\n",
      "\n",
      "help> lambda\n",
      "Lambdas\n",
      "*******\n",
      "\n",
      "   lambda_expr        ::= \"lambda\" [parameter_list] \":\" expression\n",
      "   lambda_expr_nocond ::= \"lambda\" [parameter_list] \":\" expression_nocond\n",
      "\n",
      "Lambda expressions (sometimes called lambda forms) are used to create\n",
      "anonymous functions. The expression \"lambda parameters: expression\"\n",
      "yields a function object.  The unnamed object behaves like a function\n",
      "object defined with:\n",
      "\n",
      "   def <lambda>(parameters):\n",
      "       return expression\n",
      "\n",
      "See section Function definitions for the syntax of parameter lists.\n",
      "Note that functions created with lambda expressions cannot contain\n",
      "statements or annotations.\n",
      "\n",
      "Related help topics: FUNCTIONS\n",
      "\n",
      "help> quit\n",
      "\n",
      "You are now leaving help and returning to the Python interpreter.\n",
      "If you want to ask for help on a particular object directly from the\n",
      "interpreter, you can type \"help(object)\".  Executing \"help('string')\"\n",
      "has the same effect as typing a particular string at the help> prompt.\n"
     ]
    }
   ],
   "source": [
    "help()"
   ]
  },
  {
   "cell_type": "code",
   "execution_count": null,
   "metadata": {},
   "outputs": [],
   "source": []
  }
 ],
 "metadata": {
  "kernelspec": {
   "display_name": "Python 3",
   "language": "python",
   "name": "python3"
  },
  "language_info": {
   "codemirror_mode": {
    "name": "ipython",
    "version": 3
   },
   "file_extension": ".py",
   "mimetype": "text/x-python",
   "name": "python",
   "nbconvert_exporter": "python",
   "pygments_lexer": "ipython3",
   "version": "3.7.2"
  }
 },
 "nbformat": 4,
 "nbformat_minor": 2
}
